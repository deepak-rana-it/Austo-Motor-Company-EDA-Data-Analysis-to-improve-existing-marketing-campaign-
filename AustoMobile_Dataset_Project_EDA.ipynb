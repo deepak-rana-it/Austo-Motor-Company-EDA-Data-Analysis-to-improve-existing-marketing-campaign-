{
 "cells": [
  {
   "cell_type": "code",
   "execution_count": 47,
   "id": "c022338f-d486-40a8-849b-0f0e131b793e",
   "metadata": {},
   "outputs": [],
   "source": [
    "import os\n",
    "import numpy as np\n",
    "import pandas as pd\n",
    "import seaborn as sns\n",
    "import warnings\n",
    "warnings.filterwarnings('ignore')\n",
    "import matplotlib.pyplot as plt"
   ]
  },
  {
   "cell_type": "code",
   "execution_count": 3,
   "id": "74387950-5ea6-497e-b891-f7187b644a1a",
   "metadata": {},
   "outputs": [],
   "source": [
    "df=pd.read_csv(\"austo_automobile.csv\")"
   ]
  },
  {
   "cell_type": "markdown",
   "id": "c8b3566a-85f6-4bf3-b181-8684377cf9e4",
   "metadata": {},
   "source": [
    "# 1. Data Cleaning Process"
   ]
  },
  {
   "cell_type": "code",
   "execution_count": 9,
   "id": "e4d8317e-b9f7-49e9-82a3-ec9b038e5084",
   "metadata": {},
   "outputs": [
    {
     "data": {
      "text/html": [
       "<div>\n",
       "<style scoped>\n",
       "    .dataframe tbody tr th:only-of-type {\n",
       "        vertical-align: middle;\n",
       "    }\n",
       "\n",
       "    .dataframe tbody tr th {\n",
       "        vertical-align: top;\n",
       "    }\n",
       "\n",
       "    .dataframe thead th {\n",
       "        text-align: right;\n",
       "    }\n",
       "</style>\n",
       "<table border=\"1\" class=\"dataframe\">\n",
       "  <thead>\n",
       "    <tr style=\"text-align: right;\">\n",
       "      <th></th>\n",
       "      <th>Age</th>\n",
       "      <th>Gender</th>\n",
       "      <th>Profession</th>\n",
       "      <th>Marital_status</th>\n",
       "      <th>Education</th>\n",
       "      <th>No_of_Dependents</th>\n",
       "      <th>Personal_loan</th>\n",
       "      <th>House_loan</th>\n",
       "      <th>Partner_working</th>\n",
       "      <th>Salary</th>\n",
       "      <th>Partner_salary</th>\n",
       "      <th>Total_salary</th>\n",
       "      <th>Price</th>\n",
       "      <th>Make</th>\n",
       "    </tr>\n",
       "  </thead>\n",
       "  <tbody>\n",
       "    <tr>\n",
       "      <th>0</th>\n",
       "      <td>53</td>\n",
       "      <td>Male</td>\n",
       "      <td>Business</td>\n",
       "      <td>Married</td>\n",
       "      <td>Post Graduate</td>\n",
       "      <td>4</td>\n",
       "      <td>No</td>\n",
       "      <td>No</td>\n",
       "      <td>Yes</td>\n",
       "      <td>99300</td>\n",
       "      <td>70700.0</td>\n",
       "      <td>170000</td>\n",
       "      <td>61000</td>\n",
       "      <td>SUV</td>\n",
       "    </tr>\n",
       "    <tr>\n",
       "      <th>1</th>\n",
       "      <td>53</td>\n",
       "      <td>Femal</td>\n",
       "      <td>Salaried</td>\n",
       "      <td>Married</td>\n",
       "      <td>Post Graduate</td>\n",
       "      <td>4</td>\n",
       "      <td>Yes</td>\n",
       "      <td>No</td>\n",
       "      <td>Yes</td>\n",
       "      <td>95500</td>\n",
       "      <td>70300.0</td>\n",
       "      <td>165800</td>\n",
       "      <td>61000</td>\n",
       "      <td>SUV</td>\n",
       "    </tr>\n",
       "    <tr>\n",
       "      <th>2</th>\n",
       "      <td>53</td>\n",
       "      <td>Female</td>\n",
       "      <td>Salaried</td>\n",
       "      <td>Married</td>\n",
       "      <td>Post Graduate</td>\n",
       "      <td>3</td>\n",
       "      <td>No</td>\n",
       "      <td>No</td>\n",
       "      <td>Yes</td>\n",
       "      <td>97300</td>\n",
       "      <td>60700.0</td>\n",
       "      <td>158000</td>\n",
       "      <td>57000</td>\n",
       "      <td>SUV</td>\n",
       "    </tr>\n",
       "    <tr>\n",
       "      <th>3</th>\n",
       "      <td>53</td>\n",
       "      <td>Female</td>\n",
       "      <td>Salaried</td>\n",
       "      <td>Married</td>\n",
       "      <td>Graduate</td>\n",
       "      <td>2</td>\n",
       "      <td>Yes</td>\n",
       "      <td>No</td>\n",
       "      <td>Yes</td>\n",
       "      <td>72500</td>\n",
       "      <td>70300.0</td>\n",
       "      <td>142800</td>\n",
       "      <td>61000</td>\n",
       "      <td>SUV</td>\n",
       "    </tr>\n",
       "    <tr>\n",
       "      <th>4</th>\n",
       "      <td>53</td>\n",
       "      <td>Male</td>\n",
       "      <td>Salaried</td>\n",
       "      <td>Married</td>\n",
       "      <td>Post Graduate</td>\n",
       "      <td>3</td>\n",
       "      <td>No</td>\n",
       "      <td>No</td>\n",
       "      <td>Yes</td>\n",
       "      <td>79700</td>\n",
       "      <td>60200.0</td>\n",
       "      <td>139900</td>\n",
       "      <td>57000</td>\n",
       "      <td>SUV</td>\n",
       "    </tr>\n",
       "    <tr>\n",
       "      <th>...</th>\n",
       "      <td>...</td>\n",
       "      <td>...</td>\n",
       "      <td>...</td>\n",
       "      <td>...</td>\n",
       "      <td>...</td>\n",
       "      <td>...</td>\n",
       "      <td>...</td>\n",
       "      <td>...</td>\n",
       "      <td>...</td>\n",
       "      <td>...</td>\n",
       "      <td>...</td>\n",
       "      <td>...</td>\n",
       "      <td>...</td>\n",
       "      <td>...</td>\n",
       "    </tr>\n",
       "    <tr>\n",
       "      <th>1576</th>\n",
       "      <td>22</td>\n",
       "      <td>Male</td>\n",
       "      <td>Salaried</td>\n",
       "      <td>Single</td>\n",
       "      <td>Graduate</td>\n",
       "      <td>2</td>\n",
       "      <td>No</td>\n",
       "      <td>Yes</td>\n",
       "      <td>No</td>\n",
       "      <td>33300</td>\n",
       "      <td>0.0</td>\n",
       "      <td>33300</td>\n",
       "      <td>27000</td>\n",
       "      <td>Hatchback</td>\n",
       "    </tr>\n",
       "    <tr>\n",
       "      <th>1577</th>\n",
       "      <td>22</td>\n",
       "      <td>Male</td>\n",
       "      <td>Business</td>\n",
       "      <td>Married</td>\n",
       "      <td>Graduate</td>\n",
       "      <td>4</td>\n",
       "      <td>No</td>\n",
       "      <td>No</td>\n",
       "      <td>No</td>\n",
       "      <td>32000</td>\n",
       "      <td>NaN</td>\n",
       "      <td>32000</td>\n",
       "      <td>31000</td>\n",
       "      <td>Hatchback</td>\n",
       "    </tr>\n",
       "    <tr>\n",
       "      <th>1578</th>\n",
       "      <td>22</td>\n",
       "      <td>Male</td>\n",
       "      <td>Business</td>\n",
       "      <td>Single</td>\n",
       "      <td>Graduate</td>\n",
       "      <td>2</td>\n",
       "      <td>No</td>\n",
       "      <td>Yes</td>\n",
       "      <td>No</td>\n",
       "      <td>32900</td>\n",
       "      <td>0.0</td>\n",
       "      <td>32900</td>\n",
       "      <td>30000</td>\n",
       "      <td>Hatchback</td>\n",
       "    </tr>\n",
       "    <tr>\n",
       "      <th>1579</th>\n",
       "      <td>22</td>\n",
       "      <td>Male</td>\n",
       "      <td>Business</td>\n",
       "      <td>Married</td>\n",
       "      <td>Graduate</td>\n",
       "      <td>3</td>\n",
       "      <td>Yes</td>\n",
       "      <td>Yes</td>\n",
       "      <td>No</td>\n",
       "      <td>32200</td>\n",
       "      <td>NaN</td>\n",
       "      <td>32200</td>\n",
       "      <td>24000</td>\n",
       "      <td>Hatchback</td>\n",
       "    </tr>\n",
       "    <tr>\n",
       "      <th>1580</th>\n",
       "      <td>22</td>\n",
       "      <td>Male</td>\n",
       "      <td>Salaried</td>\n",
       "      <td>Married</td>\n",
       "      <td>Graduate</td>\n",
       "      <td>4</td>\n",
       "      <td>No</td>\n",
       "      <td>No</td>\n",
       "      <td>No</td>\n",
       "      <td>31600</td>\n",
       "      <td>0.0</td>\n",
       "      <td>31600</td>\n",
       "      <td>31000</td>\n",
       "      <td>Hatchback</td>\n",
       "    </tr>\n",
       "  </tbody>\n",
       "</table>\n",
       "<p>1581 rows × 14 columns</p>\n",
       "</div>"
      ],
      "text/plain": [
       "      Age  Gender Profession Marital_status      Education  No_of_Dependents  \\\n",
       "0      53    Male   Business        Married  Post Graduate                 4   \n",
       "1      53   Femal   Salaried        Married  Post Graduate                 4   \n",
       "2      53  Female   Salaried        Married  Post Graduate                 3   \n",
       "3      53  Female   Salaried        Married       Graduate                 2   \n",
       "4      53    Male   Salaried        Married  Post Graduate                 3   \n",
       "...   ...     ...        ...            ...            ...               ...   \n",
       "1576   22    Male   Salaried         Single       Graduate                 2   \n",
       "1577   22    Male   Business        Married       Graduate                 4   \n",
       "1578   22    Male   Business         Single       Graduate                 2   \n",
       "1579   22    Male   Business        Married       Graduate                 3   \n",
       "1580   22    Male   Salaried        Married       Graduate                 4   \n",
       "\n",
       "     Personal_loan House_loan Partner_working  Salary  Partner_salary  \\\n",
       "0               No         No             Yes   99300         70700.0   \n",
       "1              Yes         No             Yes   95500         70300.0   \n",
       "2               No         No             Yes   97300         60700.0   \n",
       "3              Yes         No             Yes   72500         70300.0   \n",
       "4               No         No             Yes   79700         60200.0   \n",
       "...            ...        ...             ...     ...             ...   \n",
       "1576            No        Yes              No   33300             0.0   \n",
       "1577            No         No              No   32000             NaN   \n",
       "1578            No        Yes              No   32900             0.0   \n",
       "1579           Yes        Yes              No   32200             NaN   \n",
       "1580            No         No              No   31600             0.0   \n",
       "\n",
       "      Total_salary  Price       Make  \n",
       "0           170000  61000        SUV  \n",
       "1           165800  61000        SUV  \n",
       "2           158000  57000        SUV  \n",
       "3           142800  61000        SUV  \n",
       "4           139900  57000        SUV  \n",
       "...            ...    ...        ...  \n",
       "1576         33300  27000  Hatchback  \n",
       "1577         32000  31000  Hatchback  \n",
       "1578         32900  30000  Hatchback  \n",
       "1579         32200  24000  Hatchback  \n",
       "1580         31600  31000  Hatchback  \n",
       "\n",
       "[1581 rows x 14 columns]"
      ]
     },
     "execution_count": 9,
     "metadata": {},
     "output_type": "execute_result"
    }
   ],
   "source": [
    "df"
   ]
  },
  {
   "cell_type": "code",
   "execution_count": 11,
   "id": "f9e1b2c7-4adb-4c39-b809-3cb9cded6af5",
   "metadata": {},
   "outputs": [
    {
     "data": {
      "text/plain": [
       "(1581, 14)"
      ]
     },
     "execution_count": 11,
     "metadata": {},
     "output_type": "execute_result"
    }
   ],
   "source": [
    "df.shape"
   ]
  },
  {
   "cell_type": "code",
   "execution_count": 8,
   "id": "3d5b8f4b-0fab-4214-a801-4cd5ee1b9752",
   "metadata": {},
   "outputs": [
    {
     "data": {
      "text/plain": [
       "22134"
      ]
     },
     "execution_count": 8,
     "metadata": {},
     "output_type": "execute_result"
    }
   ],
   "source": [
    "df.size"
   ]
  },
  {
   "cell_type": "code",
   "execution_count": 9,
   "id": "28afce3a-7042-44b5-9ba1-7bd0f4256dc5",
   "metadata": {},
   "outputs": [
    {
     "name": "stdout",
     "output_type": "stream",
     "text": [
      "Total rows: 1581\n",
      "Total coloumns: 14\n"
     ]
    }
   ],
   "source": [
    "print(\"Total rows:\",df.shape[0])\n",
    "print(\"Total coloumns:\",df.shape[1])"
   ]
  },
  {
   "cell_type": "code",
   "execution_count": 12,
   "id": "006cd1c5-e1be-4f2b-84a5-d535d19c29fa",
   "metadata": {},
   "outputs": [
    {
     "data": {
      "text/html": [
       "<div>\n",
       "<style scoped>\n",
       "    .dataframe tbody tr th:only-of-type {\n",
       "        vertical-align: middle;\n",
       "    }\n",
       "\n",
       "    .dataframe tbody tr th {\n",
       "        vertical-align: top;\n",
       "    }\n",
       "\n",
       "    .dataframe thead th {\n",
       "        text-align: right;\n",
       "    }\n",
       "</style>\n",
       "<table border=\"1\" class=\"dataframe\">\n",
       "  <thead>\n",
       "    <tr style=\"text-align: right;\">\n",
       "      <th></th>\n",
       "      <th>Age</th>\n",
       "      <th>Gender</th>\n",
       "      <th>Profession</th>\n",
       "      <th>Marital_status</th>\n",
       "      <th>Education</th>\n",
       "      <th>No_of_Dependents</th>\n",
       "      <th>Personal_loan</th>\n",
       "      <th>House_loan</th>\n",
       "      <th>Partner_working</th>\n",
       "      <th>Salary</th>\n",
       "      <th>Partner_salary</th>\n",
       "      <th>Total_salary</th>\n",
       "      <th>Price</th>\n",
       "      <th>Make</th>\n",
       "    </tr>\n",
       "  </thead>\n",
       "  <tbody>\n",
       "    <tr>\n",
       "      <th>0</th>\n",
       "      <td>53</td>\n",
       "      <td>Male</td>\n",
       "      <td>Business</td>\n",
       "      <td>Married</td>\n",
       "      <td>Post Graduate</td>\n",
       "      <td>4</td>\n",
       "      <td>No</td>\n",
       "      <td>No</td>\n",
       "      <td>Yes</td>\n",
       "      <td>99300</td>\n",
       "      <td>70700.0</td>\n",
       "      <td>170000</td>\n",
       "      <td>61000</td>\n",
       "      <td>SUV</td>\n",
       "    </tr>\n",
       "    <tr>\n",
       "      <th>1</th>\n",
       "      <td>53</td>\n",
       "      <td>Femal</td>\n",
       "      <td>Salaried</td>\n",
       "      <td>Married</td>\n",
       "      <td>Post Graduate</td>\n",
       "      <td>4</td>\n",
       "      <td>Yes</td>\n",
       "      <td>No</td>\n",
       "      <td>Yes</td>\n",
       "      <td>95500</td>\n",
       "      <td>70300.0</td>\n",
       "      <td>165800</td>\n",
       "      <td>61000</td>\n",
       "      <td>SUV</td>\n",
       "    </tr>\n",
       "    <tr>\n",
       "      <th>2</th>\n",
       "      <td>53</td>\n",
       "      <td>Female</td>\n",
       "      <td>Salaried</td>\n",
       "      <td>Married</td>\n",
       "      <td>Post Graduate</td>\n",
       "      <td>3</td>\n",
       "      <td>No</td>\n",
       "      <td>No</td>\n",
       "      <td>Yes</td>\n",
       "      <td>97300</td>\n",
       "      <td>60700.0</td>\n",
       "      <td>158000</td>\n",
       "      <td>57000</td>\n",
       "      <td>SUV</td>\n",
       "    </tr>\n",
       "    <tr>\n",
       "      <th>3</th>\n",
       "      <td>53</td>\n",
       "      <td>Female</td>\n",
       "      <td>Salaried</td>\n",
       "      <td>Married</td>\n",
       "      <td>Graduate</td>\n",
       "      <td>2</td>\n",
       "      <td>Yes</td>\n",
       "      <td>No</td>\n",
       "      <td>Yes</td>\n",
       "      <td>72500</td>\n",
       "      <td>70300.0</td>\n",
       "      <td>142800</td>\n",
       "      <td>61000</td>\n",
       "      <td>SUV</td>\n",
       "    </tr>\n",
       "    <tr>\n",
       "      <th>4</th>\n",
       "      <td>53</td>\n",
       "      <td>Male</td>\n",
       "      <td>Salaried</td>\n",
       "      <td>Married</td>\n",
       "      <td>Post Graduate</td>\n",
       "      <td>3</td>\n",
       "      <td>No</td>\n",
       "      <td>No</td>\n",
       "      <td>Yes</td>\n",
       "      <td>79700</td>\n",
       "      <td>60200.0</td>\n",
       "      <td>139900</td>\n",
       "      <td>57000</td>\n",
       "      <td>SUV</td>\n",
       "    </tr>\n",
       "  </tbody>\n",
       "</table>\n",
       "</div>"
      ],
      "text/plain": [
       "   Age  Gender Profession Marital_status      Education  No_of_Dependents  \\\n",
       "0   53    Male   Business        Married  Post Graduate                 4   \n",
       "1   53   Femal   Salaried        Married  Post Graduate                 4   \n",
       "2   53  Female   Salaried        Married  Post Graduate                 3   \n",
       "3   53  Female   Salaried        Married       Graduate                 2   \n",
       "4   53    Male   Salaried        Married  Post Graduate                 3   \n",
       "\n",
       "  Personal_loan House_loan Partner_working  Salary  Partner_salary  \\\n",
       "0            No         No             Yes   99300         70700.0   \n",
       "1           Yes         No             Yes   95500         70300.0   \n",
       "2            No         No             Yes   97300         60700.0   \n",
       "3           Yes         No             Yes   72500         70300.0   \n",
       "4            No         No             Yes   79700         60200.0   \n",
       "\n",
       "   Total_salary  Price Make  \n",
       "0        170000  61000  SUV  \n",
       "1        165800  61000  SUV  \n",
       "2        158000  57000  SUV  \n",
       "3        142800  61000  SUV  \n",
       "4        139900  57000  SUV  "
      ]
     },
     "execution_count": 12,
     "metadata": {},
     "output_type": "execute_result"
    }
   ],
   "source": [
    "df.head(5)"
   ]
  },
  {
   "cell_type": "code",
   "execution_count": 13,
   "id": "ba8c3a9c-d128-4a58-bb1b-c7a80dd18b4b",
   "metadata": {},
   "outputs": [
    {
     "data": {
      "text/plain": [
       "Index(['Age', 'Gender', 'Profession', 'Marital_status', 'Education',\n",
       "       'No_of_Dependents', 'Personal_loan', 'House_loan', 'Partner_working',\n",
       "       'Salary', 'Partner_salary', 'Total_salary', 'Price', 'Make'],\n",
       "      dtype='object')"
      ]
     },
     "execution_count": 13,
     "metadata": {},
     "output_type": "execute_result"
    }
   ],
   "source": [
    "df.columns"
   ]
  },
  {
   "cell_type": "markdown",
   "id": "966b4384-b922-4143-8682-9f372416a6f2",
   "metadata": {},
   "source": [
    "## check wrong data in col. and correct it"
   ]
  },
  {
   "cell_type": "code",
   "execution_count": 24,
   "id": "4b1a8925-4f38-4ce9-8b96-369a0164ed88",
   "metadata": {},
   "outputs": [
    {
     "data": {
      "text/plain": [
       "array(['Male', 'Female', nan], dtype=object)"
      ]
     },
     "execution_count": 24,
     "metadata": {},
     "output_type": "execute_result"
    }
   ],
   "source": [
    "df.Gender.unique()      #get the unique col. values of Gender column"
   ]
  },
  {
   "cell_type": "code",
   "execution_count": 26,
   "id": "ff6dad27-291d-45b5-9d47-346499b6a063",
   "metadata": {},
   "outputs": [
    {
     "data": {
      "text/plain": [
       "array(['Business', 'Salaried'], dtype=object)"
      ]
     },
     "execution_count": 26,
     "metadata": {},
     "output_type": "execute_result"
    }
   ],
   "source": [
    "df.Profession.unique()"
   ]
  },
  {
   "cell_type": "code",
   "execution_count": 18,
   "id": "6f03a75b-128b-4381-aa04-6b09ef92d79d",
   "metadata": {},
   "outputs": [
    {
     "data": {
      "text/plain": [
       "Profession\n",
       "Salaried    896\n",
       "Business    685\n",
       "Name: count, dtype: int64"
      ]
     },
     "execution_count": 18,
     "metadata": {},
     "output_type": "execute_result"
    }
   ],
   "source": [
    "df.Profession.value_counts()"
   ]
  },
  {
   "cell_type": "code",
   "execution_count": 20,
   "id": "b9ef8245-98ca-4c38-9451-4416c901200c",
   "metadata": {},
   "outputs": [
    {
     "data": {
      "text/plain": [
       "array(['Male', 'Femal', 'Female', nan, 'Femle'], dtype=object)"
      ]
     },
     "execution_count": 20,
     "metadata": {},
     "output_type": "execute_result"
    }
   ],
   "source": [
    "#Descipancies in the columns\n",
    "df.Gender.unique()\n"
   ]
  },
  {
   "cell_type": "code",
   "execution_count": 21,
   "id": "f79287b3-afad-4023-b9c2-fb2e15c28cac",
   "metadata": {},
   "outputs": [],
   "source": [
    "df.Gender=df.Gender.replace([\"Femal\",\"Femle\"],[\"Female\",\"Female\"])"
   ]
  },
  {
   "cell_type": "code",
   "execution_count": 22,
   "id": "57fb980b-15e8-468c-aba3-bf81cf8cc9f5",
   "metadata": {},
   "outputs": [
    {
     "data": {
      "text/plain": [
       "array(['Male', 'Female', nan], dtype=object)"
      ]
     },
     "execution_count": 22,
     "metadata": {},
     "output_type": "execute_result"
    }
   ],
   "source": [
    "df.Gender.unique()"
   ]
  },
  {
   "cell_type": "code",
   "execution_count": 23,
   "id": "e52adb0b-d112-4179-8204-15ad990c927a",
   "metadata": {},
   "outputs": [
    {
     "data": {
      "text/plain": [
       "Gender\n",
       "Male      1199\n",
       "Female     329\n",
       "Name: count, dtype: int64"
      ]
     },
     "execution_count": 23,
     "metadata": {},
     "output_type": "execute_result"
    }
   ],
   "source": [
    "df.Gender.value_counts()"
   ]
  },
  {
   "cell_type": "markdown",
   "id": "addbd3f1-8fd6-4208-a145-d1bea3965b52",
   "metadata": {},
   "source": [
    "## check Null (nan) values"
   ]
  },
  {
   "cell_type": "code",
   "execution_count": 39,
   "id": "d59ef56a-ec7a-408f-9d79-06422c880878",
   "metadata": {},
   "outputs": [
    {
     "data": {
      "text/plain": [
       "Age                   0\n",
       "Gender               53\n",
       "Profession            0\n",
       "Marital_status        0\n",
       "Education             0\n",
       "No_of_Dependents      0\n",
       "Personal_loan         0\n",
       "House_loan            0\n",
       "Partner_working       0\n",
       "Salary                0\n",
       "Partner_salary      106\n",
       "Total_salary          0\n",
       "Price                 0\n",
       "Make                  0\n",
       "dtype: int64"
      ]
     },
     "execution_count": 39,
     "metadata": {},
     "output_type": "execute_result"
    }
   ],
   "source": [
    "df.isnull().sum()       #check for null values"
   ]
  },
  {
   "cell_type": "code",
   "execution_count": 40,
   "id": "69879443-fc3d-4822-8874-fa456bc1383f",
   "metadata": {},
   "outputs": [
    {
     "data": {
      "text/plain": [
       "array(['Male', 'Female', nan], dtype=object)"
      ]
     },
     "execution_count": 40,
     "metadata": {},
     "output_type": "execute_result"
    }
   ],
   "source": [
    "df.Gender.unique()"
   ]
  },
  {
   "cell_type": "code",
   "execution_count": 37,
   "id": "9ed59129-1758-442c-a006-d7edb01f189b",
   "metadata": {},
   "outputs": [
    {
     "data": {
      "text/plain": [
       "Gender\n",
       "Male      1199\n",
       "Female     329\n",
       "Name: count, dtype: int64"
      ]
     },
     "execution_count": 37,
     "metadata": {},
     "output_type": "execute_result"
    }
   ],
   "source": [
    "df.Gender.value_counts()     #we can fill null values with most common class - Male here"
   ]
  },
  {
   "cell_type": "code",
   "execution_count": 47,
   "id": "c79da72e-c610-440d-954e-398325211362",
   "metadata": {},
   "outputs": [],
   "source": [
    "df.Gender=df.Gender.fillna(\"Male\")"
   ]
  },
  {
   "cell_type": "code",
   "execution_count": 48,
   "id": "d0967537-14f7-4a67-a923-c7dc1944015e",
   "metadata": {},
   "outputs": [
    {
     "data": {
      "text/plain": [
       "array(['Male', 'Female'], dtype=object)"
      ]
     },
     "execution_count": 48,
     "metadata": {},
     "output_type": "execute_result"
    }
   ],
   "source": [
    "df.Gender.unique()"
   ]
  },
  {
   "cell_type": "code",
   "execution_count": 49,
   "id": "be7d353f-c3a1-4de0-acc3-4fdc90b4d110",
   "metadata": {},
   "outputs": [
    {
     "data": {
      "text/plain": [
       "Age                   0\n",
       "Gender                0\n",
       "Profession            0\n",
       "Marital_status        0\n",
       "Education             0\n",
       "No_of_Dependents      0\n",
       "Personal_loan         0\n",
       "House_loan            0\n",
       "Partner_working       0\n",
       "Salary                0\n",
       "Partner_salary      106\n",
       "Total_salary          0\n",
       "Price                 0\n",
       "Make                  0\n",
       "dtype: int64"
      ]
     },
     "execution_count": 49,
     "metadata": {},
     "output_type": "execute_result"
    }
   ],
   "source": [
    "df.isnull().sum()       #check for null values"
   ]
  },
  {
   "cell_type": "code",
   "execution_count": 50,
   "id": "4c9ce7df-f62e-4ddd-985d-f7f735b0c652",
   "metadata": {},
   "outputs": [
    {
     "data": {
      "text/html": [
       "<div>\n",
       "<style scoped>\n",
       "    .dataframe tbody tr th:only-of-type {\n",
       "        vertical-align: middle;\n",
       "    }\n",
       "\n",
       "    .dataframe tbody tr th {\n",
       "        vertical-align: top;\n",
       "    }\n",
       "\n",
       "    .dataframe thead th {\n",
       "        text-align: right;\n",
       "    }\n",
       "</style>\n",
       "<table border=\"1\" class=\"dataframe\">\n",
       "  <thead>\n",
       "    <tr style=\"text-align: right;\">\n",
       "      <th></th>\n",
       "      <th>Age</th>\n",
       "      <th>Gender</th>\n",
       "      <th>Profession</th>\n",
       "      <th>Marital_status</th>\n",
       "      <th>Education</th>\n",
       "      <th>No_of_Dependents</th>\n",
       "      <th>Personal_loan</th>\n",
       "      <th>House_loan</th>\n",
       "      <th>Partner_working</th>\n",
       "      <th>Salary</th>\n",
       "      <th>Partner_salary</th>\n",
       "      <th>Total_salary</th>\n",
       "      <th>Price</th>\n",
       "      <th>Make</th>\n",
       "    </tr>\n",
       "  </thead>\n",
       "  <tbody>\n",
       "    <tr>\n",
       "      <th>0</th>\n",
       "      <td>53</td>\n",
       "      <td>Male</td>\n",
       "      <td>Business</td>\n",
       "      <td>Married</td>\n",
       "      <td>Post Graduate</td>\n",
       "      <td>4</td>\n",
       "      <td>No</td>\n",
       "      <td>No</td>\n",
       "      <td>Yes</td>\n",
       "      <td>99300</td>\n",
       "      <td>70700.0</td>\n",
       "      <td>170000</td>\n",
       "      <td>61000</td>\n",
       "      <td>SUV</td>\n",
       "    </tr>\n",
       "    <tr>\n",
       "      <th>1</th>\n",
       "      <td>53</td>\n",
       "      <td>Female</td>\n",
       "      <td>Salaried</td>\n",
       "      <td>Married</td>\n",
       "      <td>Post Graduate</td>\n",
       "      <td>4</td>\n",
       "      <td>Yes</td>\n",
       "      <td>No</td>\n",
       "      <td>Yes</td>\n",
       "      <td>95500</td>\n",
       "      <td>70300.0</td>\n",
       "      <td>165800</td>\n",
       "      <td>61000</td>\n",
       "      <td>SUV</td>\n",
       "    </tr>\n",
       "    <tr>\n",
       "      <th>2</th>\n",
       "      <td>53</td>\n",
       "      <td>Female</td>\n",
       "      <td>Salaried</td>\n",
       "      <td>Married</td>\n",
       "      <td>Post Graduate</td>\n",
       "      <td>3</td>\n",
       "      <td>No</td>\n",
       "      <td>No</td>\n",
       "      <td>Yes</td>\n",
       "      <td>97300</td>\n",
       "      <td>60700.0</td>\n",
       "      <td>158000</td>\n",
       "      <td>57000</td>\n",
       "      <td>SUV</td>\n",
       "    </tr>\n",
       "    <tr>\n",
       "      <th>3</th>\n",
       "      <td>53</td>\n",
       "      <td>Female</td>\n",
       "      <td>Salaried</td>\n",
       "      <td>Married</td>\n",
       "      <td>Graduate</td>\n",
       "      <td>2</td>\n",
       "      <td>Yes</td>\n",
       "      <td>No</td>\n",
       "      <td>Yes</td>\n",
       "      <td>72500</td>\n",
       "      <td>70300.0</td>\n",
       "      <td>142800</td>\n",
       "      <td>61000</td>\n",
       "      <td>SUV</td>\n",
       "    </tr>\n",
       "    <tr>\n",
       "      <th>4</th>\n",
       "      <td>53</td>\n",
       "      <td>Male</td>\n",
       "      <td>Salaried</td>\n",
       "      <td>Married</td>\n",
       "      <td>Post Graduate</td>\n",
       "      <td>3</td>\n",
       "      <td>No</td>\n",
       "      <td>No</td>\n",
       "      <td>Yes</td>\n",
       "      <td>79700</td>\n",
       "      <td>60200.0</td>\n",
       "      <td>139900</td>\n",
       "      <td>57000</td>\n",
       "      <td>SUV</td>\n",
       "    </tr>\n",
       "    <tr>\n",
       "      <th>...</th>\n",
       "      <td>...</td>\n",
       "      <td>...</td>\n",
       "      <td>...</td>\n",
       "      <td>...</td>\n",
       "      <td>...</td>\n",
       "      <td>...</td>\n",
       "      <td>...</td>\n",
       "      <td>...</td>\n",
       "      <td>...</td>\n",
       "      <td>...</td>\n",
       "      <td>...</td>\n",
       "      <td>...</td>\n",
       "      <td>...</td>\n",
       "      <td>...</td>\n",
       "    </tr>\n",
       "    <tr>\n",
       "      <th>1576</th>\n",
       "      <td>22</td>\n",
       "      <td>Male</td>\n",
       "      <td>Salaried</td>\n",
       "      <td>Single</td>\n",
       "      <td>Graduate</td>\n",
       "      <td>2</td>\n",
       "      <td>No</td>\n",
       "      <td>Yes</td>\n",
       "      <td>No</td>\n",
       "      <td>33300</td>\n",
       "      <td>0.0</td>\n",
       "      <td>33300</td>\n",
       "      <td>27000</td>\n",
       "      <td>Hatchback</td>\n",
       "    </tr>\n",
       "    <tr>\n",
       "      <th>1577</th>\n",
       "      <td>22</td>\n",
       "      <td>Male</td>\n",
       "      <td>Business</td>\n",
       "      <td>Married</td>\n",
       "      <td>Graduate</td>\n",
       "      <td>4</td>\n",
       "      <td>No</td>\n",
       "      <td>No</td>\n",
       "      <td>No</td>\n",
       "      <td>32000</td>\n",
       "      <td>NaN</td>\n",
       "      <td>32000</td>\n",
       "      <td>31000</td>\n",
       "      <td>Hatchback</td>\n",
       "    </tr>\n",
       "    <tr>\n",
       "      <th>1578</th>\n",
       "      <td>22</td>\n",
       "      <td>Male</td>\n",
       "      <td>Business</td>\n",
       "      <td>Single</td>\n",
       "      <td>Graduate</td>\n",
       "      <td>2</td>\n",
       "      <td>No</td>\n",
       "      <td>Yes</td>\n",
       "      <td>No</td>\n",
       "      <td>32900</td>\n",
       "      <td>0.0</td>\n",
       "      <td>32900</td>\n",
       "      <td>30000</td>\n",
       "      <td>Hatchback</td>\n",
       "    </tr>\n",
       "    <tr>\n",
       "      <th>1579</th>\n",
       "      <td>22</td>\n",
       "      <td>Male</td>\n",
       "      <td>Business</td>\n",
       "      <td>Married</td>\n",
       "      <td>Graduate</td>\n",
       "      <td>3</td>\n",
       "      <td>Yes</td>\n",
       "      <td>Yes</td>\n",
       "      <td>No</td>\n",
       "      <td>32200</td>\n",
       "      <td>NaN</td>\n",
       "      <td>32200</td>\n",
       "      <td>24000</td>\n",
       "      <td>Hatchback</td>\n",
       "    </tr>\n",
       "    <tr>\n",
       "      <th>1580</th>\n",
       "      <td>22</td>\n",
       "      <td>Male</td>\n",
       "      <td>Salaried</td>\n",
       "      <td>Married</td>\n",
       "      <td>Graduate</td>\n",
       "      <td>4</td>\n",
       "      <td>No</td>\n",
       "      <td>No</td>\n",
       "      <td>No</td>\n",
       "      <td>31600</td>\n",
       "      <td>0.0</td>\n",
       "      <td>31600</td>\n",
       "      <td>31000</td>\n",
       "      <td>Hatchback</td>\n",
       "    </tr>\n",
       "  </tbody>\n",
       "</table>\n",
       "<p>1581 rows × 14 columns</p>\n",
       "</div>"
      ],
      "text/plain": [
       "      Age  Gender Profession Marital_status      Education  No_of_Dependents  \\\n",
       "0      53    Male   Business        Married  Post Graduate                 4   \n",
       "1      53  Female   Salaried        Married  Post Graduate                 4   \n",
       "2      53  Female   Salaried        Married  Post Graduate                 3   \n",
       "3      53  Female   Salaried        Married       Graduate                 2   \n",
       "4      53    Male   Salaried        Married  Post Graduate                 3   \n",
       "...   ...     ...        ...            ...            ...               ...   \n",
       "1576   22    Male   Salaried         Single       Graduate                 2   \n",
       "1577   22    Male   Business        Married       Graduate                 4   \n",
       "1578   22    Male   Business         Single       Graduate                 2   \n",
       "1579   22    Male   Business        Married       Graduate                 3   \n",
       "1580   22    Male   Salaried        Married       Graduate                 4   \n",
       "\n",
       "     Personal_loan House_loan Partner_working  Salary  Partner_salary  \\\n",
       "0               No         No             Yes   99300         70700.0   \n",
       "1              Yes         No             Yes   95500         70300.0   \n",
       "2               No         No             Yes   97300         60700.0   \n",
       "3              Yes         No             Yes   72500         70300.0   \n",
       "4               No         No             Yes   79700         60200.0   \n",
       "...            ...        ...             ...     ...             ...   \n",
       "1576            No        Yes              No   33300             0.0   \n",
       "1577            No         No              No   32000             NaN   \n",
       "1578            No        Yes              No   32900             0.0   \n",
       "1579           Yes        Yes              No   32200             NaN   \n",
       "1580            No         No              No   31600             0.0   \n",
       "\n",
       "      Total_salary  Price       Make  \n",
       "0           170000  61000        SUV  \n",
       "1           165800  61000        SUV  \n",
       "2           158000  57000        SUV  \n",
       "3           142800  61000        SUV  \n",
       "4           139900  57000        SUV  \n",
       "...            ...    ...        ...  \n",
       "1576         33300  27000  Hatchback  \n",
       "1577         32000  31000  Hatchback  \n",
       "1578         32900  30000  Hatchback  \n",
       "1579         32200  24000  Hatchback  \n",
       "1580         31600  31000  Hatchback  \n",
       "\n",
       "[1581 rows x 14 columns]"
      ]
     },
     "execution_count": 50,
     "metadata": {},
     "output_type": "execute_result"
    }
   ],
   "source": [
    "df"
   ]
  },
  {
   "cell_type": "code",
   "execution_count": 51,
   "id": "8a070030-3d62-439e-9a17-008603043022",
   "metadata": {},
   "outputs": [],
   "source": [
    "#make temp. dataframe for checking salary\n",
    "dff=df[df.Partner_salary.notnull()] [[\"Salary\",\"Partner_salary\",\"Total_salary\"]]"
   ]
  },
  {
   "cell_type": "code",
   "execution_count": 52,
   "id": "a9a4e820-1c4a-458b-acea-d2aa6e13722b",
   "metadata": {},
   "outputs": [
    {
     "data": {
      "text/html": [
       "<div>\n",
       "<style scoped>\n",
       "    .dataframe tbody tr th:only-of-type {\n",
       "        vertical-align: middle;\n",
       "    }\n",
       "\n",
       "    .dataframe tbody tr th {\n",
       "        vertical-align: top;\n",
       "    }\n",
       "\n",
       "    .dataframe thead th {\n",
       "        text-align: right;\n",
       "    }\n",
       "</style>\n",
       "<table border=\"1\" class=\"dataframe\">\n",
       "  <thead>\n",
       "    <tr style=\"text-align: right;\">\n",
       "      <th></th>\n",
       "      <th>Salary</th>\n",
       "      <th>Partner_salary</th>\n",
       "      <th>Total_salary</th>\n",
       "    </tr>\n",
       "  </thead>\n",
       "  <tbody>\n",
       "    <tr>\n",
       "      <th>0</th>\n",
       "      <td>99300</td>\n",
       "      <td>70700.0</td>\n",
       "      <td>170000</td>\n",
       "    </tr>\n",
       "    <tr>\n",
       "      <th>1</th>\n",
       "      <td>95500</td>\n",
       "      <td>70300.0</td>\n",
       "      <td>165800</td>\n",
       "    </tr>\n",
       "    <tr>\n",
       "      <th>2</th>\n",
       "      <td>97300</td>\n",
       "      <td>60700.0</td>\n",
       "      <td>158000</td>\n",
       "    </tr>\n",
       "    <tr>\n",
       "      <th>3</th>\n",
       "      <td>72500</td>\n",
       "      <td>70300.0</td>\n",
       "      <td>142800</td>\n",
       "    </tr>\n",
       "    <tr>\n",
       "      <th>4</th>\n",
       "      <td>79700</td>\n",
       "      <td>60200.0</td>\n",
       "      <td>139900</td>\n",
       "    </tr>\n",
       "    <tr>\n",
       "      <th>...</th>\n",
       "      <td>...</td>\n",
       "      <td>...</td>\n",
       "      <td>...</td>\n",
       "    </tr>\n",
       "    <tr>\n",
       "      <th>1574</th>\n",
       "      <td>34700</td>\n",
       "      <td>0.0</td>\n",
       "      <td>34700</td>\n",
       "    </tr>\n",
       "    <tr>\n",
       "      <th>1575</th>\n",
       "      <td>34000</td>\n",
       "      <td>0.0</td>\n",
       "      <td>34000</td>\n",
       "    </tr>\n",
       "    <tr>\n",
       "      <th>1576</th>\n",
       "      <td>33300</td>\n",
       "      <td>0.0</td>\n",
       "      <td>33300</td>\n",
       "    </tr>\n",
       "    <tr>\n",
       "      <th>1578</th>\n",
       "      <td>32900</td>\n",
       "      <td>0.0</td>\n",
       "      <td>32900</td>\n",
       "    </tr>\n",
       "    <tr>\n",
       "      <th>1580</th>\n",
       "      <td>31600</td>\n",
       "      <td>0.0</td>\n",
       "      <td>31600</td>\n",
       "    </tr>\n",
       "  </tbody>\n",
       "</table>\n",
       "<p>1475 rows × 3 columns</p>\n",
       "</div>"
      ],
      "text/plain": [
       "      Salary  Partner_salary  Total_salary\n",
       "0      99300         70700.0        170000\n",
       "1      95500         70300.0        165800\n",
       "2      97300         60700.0        158000\n",
       "3      72500         70300.0        142800\n",
       "4      79700         60200.0        139900\n",
       "...      ...             ...           ...\n",
       "1574   34700             0.0         34700\n",
       "1575   34000             0.0         34000\n",
       "1576   33300             0.0         33300\n",
       "1578   32900             0.0         32900\n",
       "1580   31600             0.0         31600\n",
       "\n",
       "[1475 rows x 3 columns]"
      ]
     },
     "execution_count": 52,
     "metadata": {},
     "output_type": "execute_result"
    }
   ],
   "source": [
    "dff"
   ]
  },
  {
   "cell_type": "code",
   "execution_count": 55,
   "id": "13409eb0-6911-4162-9951-d6d02db8f247",
   "metadata": {},
   "outputs": [
    {
     "data": {
      "text/plain": [
       "0       True\n",
       "1       True\n",
       "2       True\n",
       "3       True\n",
       "4       True\n",
       "        ... \n",
       "1574    True\n",
       "1575    True\n",
       "1576    True\n",
       "1578    True\n",
       "1580    True\n",
       "Length: 1475, dtype: bool"
      ]
     },
     "execution_count": 55,
     "metadata": {},
     "output_type": "execute_result"
    }
   ],
   "source": [
    "(dff.Salary+dff.Partner_salary==dff.Total_salary)          #check formula"
   ]
  },
  {
   "cell_type": "code",
   "execution_count": 56,
   "id": "04ce13be-e1b3-4468-b595-56456baf60ff",
   "metadata": {},
   "outputs": [
    {
     "data": {
      "text/plain": [
       "array([ True])"
      ]
     },
     "execution_count": 56,
     "metadata": {},
     "output_type": "execute_result"
    }
   ],
   "source": [
    "(dff.Salary+dff.Partner_salary==dff.Total_salary).unique()   #this is the link to check between salary cols."
   ]
  },
  {
   "cell_type": "code",
   "execution_count": null,
   "id": "a2ce4db1-8215-4bf3-81fc-442f1f8ecb1b",
   "metadata": {},
   "outputs": [],
   "source": [
    "#now it is confirm that total salary is euual to the addition of salary and partner salary\n",
    "#then we can fill the null values of the partner salary using the difference between the salary and total salary"
   ]
  },
  {
   "cell_type": "code",
   "execution_count": 59,
   "id": "e279db4b-cf15-4bbc-b0a5-826830e802e3",
   "metadata": {},
   "outputs": [],
   "source": [
    "#now work on main dataframe df, handle null vlaues iin partner_salary col. using the above checked formula\n",
    "df.Partner_salary=df.apply(lambda row: row.Total_salary-row.Salary if np.isnan(row.Partner_salary) else row.Partner_salary,axis=1)"
   ]
  },
  {
   "cell_type": "code",
   "execution_count": 61,
   "id": "5e57787c-4c3a-4609-bc9e-bb0f6ccbc658",
   "metadata": {},
   "outputs": [
    {
     "data": {
      "text/plain": [
       "Age                 0\n",
       "Gender              0\n",
       "Profession          0\n",
       "Marital_status      0\n",
       "Education           0\n",
       "No_of_Dependents    0\n",
       "Personal_loan       0\n",
       "House_loan          0\n",
       "Partner_working     0\n",
       "Salary              0\n",
       "Partner_salary      0\n",
       "Total_salary        0\n",
       "Price               0\n",
       "Make                0\n",
       "dtype: int64"
      ]
     },
     "execution_count": 61,
     "metadata": {},
     "output_type": "execute_result"
    }
   ],
   "source": [
    "df.isnull().sum()"
   ]
  },
  {
   "cell_type": "code",
   "execution_count": 63,
   "id": "98155289-3505-4553-9acb-fbe273b0d8e8",
   "metadata": {},
   "outputs": [
    {
     "data": {
      "text/plain": [
       "0"
      ]
     },
     "execution_count": 63,
     "metadata": {},
     "output_type": "execute_result"
    }
   ],
   "source": [
    "df.duplicated().sum()   #check for duplicated values"
   ]
  },
  {
   "cell_type": "markdown",
   "id": "c98b08e2-af74-479d-9c05-f2592775713e",
   "metadata": {},
   "source": [
    "# Data Cleaning is completed"
   ]
  },
  {
   "cell_type": "markdown",
   "id": "98f7129d-b296-4561-93e3-a654adeb3f4b",
   "metadata": {},
   "source": [
    "# 2. Analsyis Process Start"
   ]
  },
  {
   "cell_type": "code",
   "execution_count": 1,
   "id": "46af468c-fa7c-4f97-ae4a-a105e7b1718c",
   "metadata": {},
   "outputs": [
    {
     "ename": "NameError",
     "evalue": "name 'df' is not defined",
     "output_type": "error",
     "traceback": [
      "\u001b[1;31m---------------------------------------------------------------------------\u001b[0m",
      "\u001b[1;31mNameError\u001b[0m                                 Traceback (most recent call last)",
      "Cell \u001b[1;32mIn[1], line 1\u001b[0m\n\u001b[1;32m----> 1\u001b[0m \u001b[43mdf\u001b[49m\u001b[38;5;241m.\u001b[39mgroupby([\u001b[38;5;124m\"\u001b[39m\u001b[38;5;124mGender\u001b[39m\u001b[38;5;124m\"\u001b[39m,\u001b[38;5;124m\"\u001b[39m\u001b[38;5;124mMake\u001b[39m\u001b[38;5;124m\"\u001b[39m]) [\u001b[38;5;124m\"\u001b[39m\u001b[38;5;124mMake\u001b[39m\u001b[38;5;124m\"\u001b[39m]\u001b[38;5;241m.\u001b[39mcount()\n",
      "\u001b[1;31mNameError\u001b[0m: name 'df' is not defined"
     ]
    }
   ],
   "source": [
    "df.groupby([\"Gender\",\"Make\"]) [\"Make\"].count()"
   ]
  },
  {
   "cell_type": "code",
   "execution_count": 11,
   "id": "30f6d33b-8a50-4f11-99bb-552cce35b958",
   "metadata": {},
   "outputs": [
    {
     "data": {
      "text/plain": [
       "Gender\n",
       "Male      1199\n",
       "Female     327\n",
       "Femal        1\n",
       "Femle        1\n",
       "Name: count, dtype: int64"
      ]
     },
     "execution_count": 11,
     "metadata": {},
     "output_type": "execute_result"
    }
   ],
   "source": [
    "#here we have imbalanaced dataset acc. to gender\n",
    "df.Gender.value_counts()"
   ]
  },
  {
   "cell_type": "code",
   "execution_count": null,
   "id": "9a7d1f60-e23d-4ea1-af1e-c8895bab07cd",
   "metadata": {},
   "outputs": [],
   "source": [
    "#conclusion - as females are less in no. but female prefer SUV mostly"
   ]
  },
  {
   "cell_type": "code",
   "execution_count": 12,
   "id": "44106d81-6627-4e5f-b991-c83b2567789d",
   "metadata": {},
   "outputs": [],
   "source": [
    "#Make Samples - separate Male data and Female Data \n",
    "male=df[[\"Gender\",\"Make\"]].where(df.Gender==\"Male\").dropna()              #make a dataset with male class"
   ]
  },
  {
   "cell_type": "code",
   "execution_count": 93,
   "id": "893b8378-b492-470b-abcc-2944a40e9adb",
   "metadata": {},
   "outputs": [
    {
     "data": {
      "text/html": [
       "<div>\n",
       "<style scoped>\n",
       "    .dataframe tbody tr th:only-of-type {\n",
       "        vertical-align: middle;\n",
       "    }\n",
       "\n",
       "    .dataframe tbody tr th {\n",
       "        vertical-align: top;\n",
       "    }\n",
       "\n",
       "    .dataframe thead th {\n",
       "        text-align: right;\n",
       "    }\n",
       "</style>\n",
       "<table border=\"1\" class=\"dataframe\">\n",
       "  <thead>\n",
       "    <tr style=\"text-align: right;\">\n",
       "      <th></th>\n",
       "      <th>Gender</th>\n",
       "      <th>Make</th>\n",
       "    </tr>\n",
       "  </thead>\n",
       "  <tbody>\n",
       "    <tr>\n",
       "      <th>0</th>\n",
       "      <td>Male</td>\n",
       "      <td>SUV</td>\n",
       "    </tr>\n",
       "    <tr>\n",
       "      <th>4</th>\n",
       "      <td>Male</td>\n",
       "      <td>SUV</td>\n",
       "    </tr>\n",
       "    <tr>\n",
       "      <th>7</th>\n",
       "      <td>Male</td>\n",
       "      <td>SUV</td>\n",
       "    </tr>\n",
       "    <tr>\n",
       "      <th>8</th>\n",
       "      <td>Male</td>\n",
       "      <td>SUV</td>\n",
       "    </tr>\n",
       "    <tr>\n",
       "      <th>9</th>\n",
       "      <td>Male</td>\n",
       "      <td>SUV</td>\n",
       "    </tr>\n",
       "    <tr>\n",
       "      <th>...</th>\n",
       "      <td>...</td>\n",
       "      <td>...</td>\n",
       "    </tr>\n",
       "    <tr>\n",
       "      <th>1576</th>\n",
       "      <td>Male</td>\n",
       "      <td>Hatchback</td>\n",
       "    </tr>\n",
       "    <tr>\n",
       "      <th>1577</th>\n",
       "      <td>Male</td>\n",
       "      <td>Hatchback</td>\n",
       "    </tr>\n",
       "    <tr>\n",
       "      <th>1578</th>\n",
       "      <td>Male</td>\n",
       "      <td>Hatchback</td>\n",
       "    </tr>\n",
       "    <tr>\n",
       "      <th>1579</th>\n",
       "      <td>Male</td>\n",
       "      <td>Hatchback</td>\n",
       "    </tr>\n",
       "    <tr>\n",
       "      <th>1580</th>\n",
       "      <td>Male</td>\n",
       "      <td>Hatchback</td>\n",
       "    </tr>\n",
       "  </tbody>\n",
       "</table>\n",
       "<p>1252 rows × 2 columns</p>\n",
       "</div>"
      ],
      "text/plain": [
       "     Gender       Make\n",
       "0      Male        SUV\n",
       "4      Male        SUV\n",
       "7      Male        SUV\n",
       "8      Male        SUV\n",
       "9      Male        SUV\n",
       "...     ...        ...\n",
       "1576   Male  Hatchback\n",
       "1577   Male  Hatchback\n",
       "1578   Male  Hatchback\n",
       "1579   Male  Hatchback\n",
       "1580   Male  Hatchback\n",
       "\n",
       "[1252 rows x 2 columns]"
      ]
     },
     "execution_count": 93,
     "metadata": {},
     "output_type": "execute_result"
    }
   ],
   "source": [
    "male"
   ]
  },
  {
   "cell_type": "code",
   "execution_count": 21,
   "id": "49e2cdce-610b-4dbd-b2b7-d47594a4ead2",
   "metadata": {},
   "outputs": [],
   "source": [
    "female=df[[\"Gender\",\"Make\"]].where(df.Gender==\"Female\").dropna()              #make a dataset with female class"
   ]
  },
  {
   "cell_type": "code",
   "execution_count": 22,
   "id": "5222bbca-695d-41f6-909d-60fb4454a4f0",
   "metadata": {},
   "outputs": [
    {
     "data": {
      "text/html": [
       "<div>\n",
       "<style scoped>\n",
       "    .dataframe tbody tr th:only-of-type {\n",
       "        vertical-align: middle;\n",
       "    }\n",
       "\n",
       "    .dataframe tbody tr th {\n",
       "        vertical-align: top;\n",
       "    }\n",
       "\n",
       "    .dataframe thead th {\n",
       "        text-align: right;\n",
       "    }\n",
       "</style>\n",
       "<table border=\"1\" class=\"dataframe\">\n",
       "  <thead>\n",
       "    <tr style=\"text-align: right;\">\n",
       "      <th></th>\n",
       "      <th>Gender</th>\n",
       "      <th>Make</th>\n",
       "    </tr>\n",
       "  </thead>\n",
       "  <tbody>\n",
       "    <tr>\n",
       "      <th>2</th>\n",
       "      <td>Female</td>\n",
       "      <td>SUV</td>\n",
       "    </tr>\n",
       "    <tr>\n",
       "      <th>3</th>\n",
       "      <td>Female</td>\n",
       "      <td>SUV</td>\n",
       "    </tr>\n",
       "    <tr>\n",
       "      <th>5</th>\n",
       "      <td>Female</td>\n",
       "      <td>SUV</td>\n",
       "    </tr>\n",
       "    <tr>\n",
       "      <th>6</th>\n",
       "      <td>Female</td>\n",
       "      <td>SUV</td>\n",
       "    </tr>\n",
       "    <tr>\n",
       "      <th>12</th>\n",
       "      <td>Female</td>\n",
       "      <td>SUV</td>\n",
       "    </tr>\n",
       "    <tr>\n",
       "      <th>...</th>\n",
       "      <td>...</td>\n",
       "      <td>...</td>\n",
       "    </tr>\n",
       "    <tr>\n",
       "      <th>1350</th>\n",
       "      <td>Female</td>\n",
       "      <td>Hatchback</td>\n",
       "    </tr>\n",
       "    <tr>\n",
       "      <th>1389</th>\n",
       "      <td>Female</td>\n",
       "      <td>Hatchback</td>\n",
       "    </tr>\n",
       "    <tr>\n",
       "      <th>1503</th>\n",
       "      <td>Female</td>\n",
       "      <td>Hatchback</td>\n",
       "    </tr>\n",
       "    <tr>\n",
       "      <th>1518</th>\n",
       "      <td>Female</td>\n",
       "      <td>Hatchback</td>\n",
       "    </tr>\n",
       "    <tr>\n",
       "      <th>1536</th>\n",
       "      <td>Female</td>\n",
       "      <td>Hatchback</td>\n",
       "    </tr>\n",
       "  </tbody>\n",
       "</table>\n",
       "<p>327 rows × 2 columns</p>\n",
       "</div>"
      ],
      "text/plain": [
       "      Gender       Make\n",
       "2     Female        SUV\n",
       "3     Female        SUV\n",
       "5     Female        SUV\n",
       "6     Female        SUV\n",
       "12    Female        SUV\n",
       "...      ...        ...\n",
       "1350  Female  Hatchback\n",
       "1389  Female  Hatchback\n",
       "1503  Female  Hatchback\n",
       "1518  Female  Hatchback\n",
       "1536  Female  Hatchback\n",
       "\n",
       "[327 rows x 2 columns]"
      ]
     },
     "execution_count": 22,
     "metadata": {},
     "output_type": "execute_result"
    }
   ],
   "source": [
    "female"
   ]
  },
  {
   "cell_type": "code",
   "execution_count": 13,
   "id": "a5d0e0df-396f-4b86-8d89-d565b71d38d4",
   "metadata": {},
   "outputs": [],
   "source": [
    "samp1=male.sample(400).groupby(\"Make\").count()      #make first sample for male class with random 400 rows"
   ]
  },
  {
   "cell_type": "code",
   "execution_count": 14,
   "id": "4653d92f-95a3-4357-aebe-98b5d7748a97",
   "metadata": {},
   "outputs": [
    {
     "data": {
      "text/html": [
       "<div>\n",
       "<style scoped>\n",
       "    .dataframe tbody tr th:only-of-type {\n",
       "        vertical-align: middle;\n",
       "    }\n",
       "\n",
       "    .dataframe tbody tr th {\n",
       "        vertical-align: top;\n",
       "    }\n",
       "\n",
       "    .dataframe thead th {\n",
       "        text-align: right;\n",
       "    }\n",
       "</style>\n",
       "<table border=\"1\" class=\"dataframe\">\n",
       "  <thead>\n",
       "    <tr style=\"text-align: right;\">\n",
       "      <th></th>\n",
       "      <th>Male</th>\n",
       "    </tr>\n",
       "    <tr>\n",
       "      <th>Make</th>\n",
       "      <th></th>\n",
       "    </tr>\n",
       "  </thead>\n",
       "  <tbody>\n",
       "    <tr>\n",
       "      <th>Hatchback</th>\n",
       "      <td>202</td>\n",
       "    </tr>\n",
       "    <tr>\n",
       "      <th>SUV</th>\n",
       "      <td>31</td>\n",
       "    </tr>\n",
       "    <tr>\n",
       "      <th>Sedan</th>\n",
       "      <td>167</td>\n",
       "    </tr>\n",
       "  </tbody>\n",
       "</table>\n",
       "</div>"
      ],
      "text/plain": [
       "           Male\n",
       "Make           \n",
       "Hatchback   202\n",
       "SUV          31\n",
       "Sedan       167"
      ]
     },
     "execution_count": 14,
     "metadata": {},
     "output_type": "execute_result"
    }
   ],
   "source": [
    "samp1.rename(columns={\"Gender\":\"Male\"})"
   ]
  },
  {
   "cell_type": "code",
   "execution_count": 15,
   "id": "2bc04dc3-aa3a-4cd0-a5a1-b10b19d611fc",
   "metadata": {},
   "outputs": [],
   "source": [
    "samp2=male.sample(400).groupby(\"Make\").count() "
   ]
  },
  {
   "cell_type": "code",
   "execution_count": 16,
   "id": "628d99bd-66c4-4e0d-ab77-147e53ce1d99",
   "metadata": {},
   "outputs": [
    {
     "data": {
      "text/html": [
       "<div>\n",
       "<style scoped>\n",
       "    .dataframe tbody tr th:only-of-type {\n",
       "        vertical-align: middle;\n",
       "    }\n",
       "\n",
       "    .dataframe tbody tr th {\n",
       "        vertical-align: top;\n",
       "    }\n",
       "\n",
       "    .dataframe thead th {\n",
       "        text-align: right;\n",
       "    }\n",
       "</style>\n",
       "<table border=\"1\" class=\"dataframe\">\n",
       "  <thead>\n",
       "    <tr style=\"text-align: right;\">\n",
       "      <th></th>\n",
       "      <th>Male</th>\n",
       "    </tr>\n",
       "    <tr>\n",
       "      <th>Make</th>\n",
       "      <th></th>\n",
       "    </tr>\n",
       "  </thead>\n",
       "  <tbody>\n",
       "    <tr>\n",
       "      <th>Hatchback</th>\n",
       "      <td>199</td>\n",
       "    </tr>\n",
       "    <tr>\n",
       "      <th>SUV</th>\n",
       "      <td>32</td>\n",
       "    </tr>\n",
       "    <tr>\n",
       "      <th>Sedan</th>\n",
       "      <td>169</td>\n",
       "    </tr>\n",
       "  </tbody>\n",
       "</table>\n",
       "</div>"
      ],
      "text/plain": [
       "           Male\n",
       "Make           \n",
       "Hatchback   199\n",
       "SUV          32\n",
       "Sedan       169"
      ]
     },
     "execution_count": 16,
     "metadata": {},
     "output_type": "execute_result"
    }
   ],
   "source": [
    "samp2.rename(columns={\"Gender\":\"Male\"})"
   ]
  },
  {
   "cell_type": "code",
   "execution_count": 17,
   "id": "eaba777f-8f6a-40ee-ab36-6e829203f73c",
   "metadata": {},
   "outputs": [],
   "source": [
    "samp3=male.sample(400).groupby(\"Make\").count() "
   ]
  },
  {
   "cell_type": "code",
   "execution_count": 18,
   "id": "316b6b37-ab4d-4c5a-a796-c1d965b61089",
   "metadata": {},
   "outputs": [
    {
     "data": {
      "text/html": [
       "<div>\n",
       "<style scoped>\n",
       "    .dataframe tbody tr th:only-of-type {\n",
       "        vertical-align: middle;\n",
       "    }\n",
       "\n",
       "    .dataframe tbody tr th {\n",
       "        vertical-align: top;\n",
       "    }\n",
       "\n",
       "    .dataframe thead th {\n",
       "        text-align: right;\n",
       "    }\n",
       "</style>\n",
       "<table border=\"1\" class=\"dataframe\">\n",
       "  <thead>\n",
       "    <tr style=\"text-align: right;\">\n",
       "      <th></th>\n",
       "      <th>Male</th>\n",
       "    </tr>\n",
       "    <tr>\n",
       "      <th>Make</th>\n",
       "      <th></th>\n",
       "    </tr>\n",
       "  </thead>\n",
       "  <tbody>\n",
       "    <tr>\n",
       "      <th>Hatchback</th>\n",
       "      <td>170</td>\n",
       "    </tr>\n",
       "    <tr>\n",
       "      <th>SUV</th>\n",
       "      <td>49</td>\n",
       "    </tr>\n",
       "    <tr>\n",
       "      <th>Sedan</th>\n",
       "      <td>181</td>\n",
       "    </tr>\n",
       "  </tbody>\n",
       "</table>\n",
       "</div>"
      ],
      "text/plain": [
       "           Male\n",
       "Make           \n",
       "Hatchback   170\n",
       "SUV          49\n",
       "Sedan       181"
      ]
     },
     "execution_count": 18,
     "metadata": {},
     "output_type": "execute_result"
    }
   ],
   "source": [
    "samp3.rename(columns={\"Gender\":\"Male\"})"
   ]
  },
  {
   "cell_type": "code",
   "execution_count": 125,
   "id": "94644dc6-83f4-48b6-a53c-d6c560791f94",
   "metadata": {},
   "outputs": [
    {
     "data": {
      "text/html": [
       "<div>\n",
       "<style scoped>\n",
       "    .dataframe tbody tr th:only-of-type {\n",
       "        vertical-align: middle;\n",
       "    }\n",
       "\n",
       "    .dataframe tbody tr th {\n",
       "        vertical-align: top;\n",
       "    }\n",
       "\n",
       "    .dataframe thead th {\n",
       "        text-align: right;\n",
       "    }\n",
       "</style>\n",
       "<table border=\"1\" class=\"dataframe\">\n",
       "  <thead>\n",
       "    <tr style=\"text-align: right;\">\n",
       "      <th></th>\n",
       "      <th>Gender</th>\n",
       "    </tr>\n",
       "    <tr>\n",
       "      <th>Make</th>\n",
       "      <th></th>\n",
       "    </tr>\n",
       "  </thead>\n",
       "  <tbody>\n",
       "    <tr>\n",
       "      <th>Hatchback</th>\n",
       "      <td>193</td>\n",
       "    </tr>\n",
       "    <tr>\n",
       "      <th>SUV</th>\n",
       "      <td>36</td>\n",
       "    </tr>\n",
       "    <tr>\n",
       "      <th>Sedan</th>\n",
       "      <td>171</td>\n",
       "    </tr>\n",
       "  </tbody>\n",
       "</table>\n",
       "</div>"
      ],
      "text/plain": [
       "           Gender\n",
       "Make             \n",
       "Hatchback     193\n",
       "SUV            36\n",
       "Sedan         171"
      ]
     },
     "execution_count": 125,
     "metadata": {},
     "output_type": "execute_result"
    }
   ],
   "source": [
    "samp1"
   ]
  },
  {
   "cell_type": "code",
   "execution_count": 126,
   "id": "0f0c6ef3-fb25-43ca-aa03-83c498532e69",
   "metadata": {},
   "outputs": [
    {
     "data": {
      "text/html": [
       "<div>\n",
       "<style scoped>\n",
       "    .dataframe tbody tr th:only-of-type {\n",
       "        vertical-align: middle;\n",
       "    }\n",
       "\n",
       "    .dataframe tbody tr th {\n",
       "        vertical-align: top;\n",
       "    }\n",
       "\n",
       "    .dataframe thead th {\n",
       "        text-align: right;\n",
       "    }\n",
       "</style>\n",
       "<table border=\"1\" class=\"dataframe\">\n",
       "  <thead>\n",
       "    <tr style=\"text-align: right;\">\n",
       "      <th></th>\n",
       "      <th>Gender</th>\n",
       "    </tr>\n",
       "    <tr>\n",
       "      <th>Make</th>\n",
       "      <th></th>\n",
       "    </tr>\n",
       "  </thead>\n",
       "  <tbody>\n",
       "    <tr>\n",
       "      <th>Hatchback</th>\n",
       "      <td>169</td>\n",
       "    </tr>\n",
       "    <tr>\n",
       "      <th>SUV</th>\n",
       "      <td>43</td>\n",
       "    </tr>\n",
       "    <tr>\n",
       "      <th>Sedan</th>\n",
       "      <td>188</td>\n",
       "    </tr>\n",
       "  </tbody>\n",
       "</table>\n",
       "</div>"
      ],
      "text/plain": [
       "           Gender\n",
       "Make             \n",
       "Hatchback     169\n",
       "SUV            43\n",
       "Sedan         188"
      ]
     },
     "execution_count": 126,
     "metadata": {},
     "output_type": "execute_result"
    }
   ],
   "source": [
    "samp2"
   ]
  },
  {
   "cell_type": "code",
   "execution_count": 127,
   "id": "3600d434-6e19-4303-adeb-d60328a6d1f6",
   "metadata": {},
   "outputs": [
    {
     "data": {
      "text/html": [
       "<div>\n",
       "<style scoped>\n",
       "    .dataframe tbody tr th:only-of-type {\n",
       "        vertical-align: middle;\n",
       "    }\n",
       "\n",
       "    .dataframe tbody tr th {\n",
       "        vertical-align: top;\n",
       "    }\n",
       "\n",
       "    .dataframe thead th {\n",
       "        text-align: right;\n",
       "    }\n",
       "</style>\n",
       "<table border=\"1\" class=\"dataframe\">\n",
       "  <thead>\n",
       "    <tr style=\"text-align: right;\">\n",
       "      <th></th>\n",
       "      <th>Gender</th>\n",
       "    </tr>\n",
       "    <tr>\n",
       "      <th>Make</th>\n",
       "      <th></th>\n",
       "    </tr>\n",
       "  </thead>\n",
       "  <tbody>\n",
       "    <tr>\n",
       "      <th>Hatchback</th>\n",
       "      <td>196</td>\n",
       "    </tr>\n",
       "    <tr>\n",
       "      <th>SUV</th>\n",
       "      <td>40</td>\n",
       "    </tr>\n",
       "    <tr>\n",
       "      <th>Sedan</th>\n",
       "      <td>164</td>\n",
       "    </tr>\n",
       "  </tbody>\n",
       "</table>\n",
       "</div>"
      ],
      "text/plain": [
       "           Gender\n",
       "Make             \n",
       "Hatchback     196\n",
       "SUV            40\n",
       "Sedan         164"
      ]
     },
     "execution_count": 127,
     "metadata": {},
     "output_type": "execute_result"
    }
   ],
   "source": [
    "samp3"
   ]
  },
  {
   "cell_type": "code",
   "execution_count": 23,
   "id": "19dcf4d4-3004-4951-8b8e-fe27bea3c15a",
   "metadata": {},
   "outputs": [],
   "source": [
    "#show female class data\n",
    "fem = female.groupby(\"Make\").count().rename(columns={\"Gender\":\"Female\"})"
   ]
  },
  {
   "cell_type": "code",
   "execution_count": 24,
   "id": "40f811ce-8ab1-4b73-9c7c-8c6d2364b8ff",
   "metadata": {},
   "outputs": [
    {
     "data": {
      "text/html": [
       "<div>\n",
       "<style scoped>\n",
       "    .dataframe tbody tr th:only-of-type {\n",
       "        vertical-align: middle;\n",
       "    }\n",
       "\n",
       "    .dataframe tbody tr th {\n",
       "        vertical-align: top;\n",
       "    }\n",
       "\n",
       "    .dataframe thead th {\n",
       "        text-align: right;\n",
       "    }\n",
       "</style>\n",
       "<table border=\"1\" class=\"dataframe\">\n",
       "  <thead>\n",
       "    <tr style=\"text-align: right;\">\n",
       "      <th></th>\n",
       "      <th>Female</th>\n",
       "    </tr>\n",
       "    <tr>\n",
       "      <th>Make</th>\n",
       "      <th></th>\n",
       "    </tr>\n",
       "  </thead>\n",
       "  <tbody>\n",
       "    <tr>\n",
       "      <th>Hatchback</th>\n",
       "      <td>15</td>\n",
       "    </tr>\n",
       "    <tr>\n",
       "      <th>SUV</th>\n",
       "      <td>171</td>\n",
       "    </tr>\n",
       "    <tr>\n",
       "      <th>Sedan</th>\n",
       "      <td>141</td>\n",
       "    </tr>\n",
       "  </tbody>\n",
       "</table>\n",
       "</div>"
      ],
      "text/plain": [
       "           Female\n",
       "Make             \n",
       "Hatchback      15\n",
       "SUV           171\n",
       "Sedan         141"
      ]
     },
     "execution_count": 24,
     "metadata": {},
     "output_type": "execute_result"
    }
   ],
   "source": [
    "fem"
   ]
  },
  {
   "cell_type": "code",
   "execution_count": 135,
   "id": "de18653d-d4b9-4b61-b22e-09ec6ba14034",
   "metadata": {},
   "outputs": [
    {
     "data": {
      "text/plain": [
       "36"
      ]
     },
     "execution_count": 135,
     "metadata": {},
     "output_type": "execute_result"
    }
   ],
   "source": [
    "samp1.iloc[1,0]"
   ]
  },
  {
   "cell_type": "code",
   "execution_count": 133,
   "id": "d63b3067-a4de-4845-a57b-d50c98fbfa3f",
   "metadata": {},
   "outputs": [],
   "source": [
    "msuv=[samp1.iloc[1,0],samp2.iloc[1,0],samp3.iloc[1,0]]\n"
   ]
  },
  {
   "cell_type": "code",
   "execution_count": 134,
   "id": "20349ffe-95a8-4a0c-9d39-40d921c13eef",
   "metadata": {},
   "outputs": [
    {
     "data": {
      "text/plain": [
       "[36, 43, 40]"
      ]
     },
     "execution_count": 134,
     "metadata": {},
     "output_type": "execute_result"
    }
   ],
   "source": [
    "msuv"
   ]
  },
  {
   "cell_type": "code",
   "execution_count": 136,
   "id": "10d951ee-12ef-454f-bb70-7a207831aa2f",
   "metadata": {},
   "outputs": [],
   "source": [
    "fsuv=[fem.iloc[1,0],fem.iloc[1,0],fem.iloc[1,0]]"
   ]
  },
  {
   "cell_type": "code",
   "execution_count": 137,
   "id": "20026977-0db0-4f0e-afd7-4f9291a58f39",
   "metadata": {},
   "outputs": [
    {
     "data": {
      "text/plain": [
       "[173, 173, 173]"
      ]
     },
     "execution_count": 137,
     "metadata": {},
     "output_type": "execute_result"
    }
   ],
   "source": [
    "fsuv"
   ]
  },
  {
   "cell_type": "code",
   "execution_count": 140,
   "id": "dfd28bb9-4e72-4a5a-a032-6b537daf7435",
   "metadata": {},
   "outputs": [],
   "source": [
    "samp=[\"samp1\",\"samp2\",\"samp3\"]"
   ]
  },
  {
   "cell_type": "code",
   "execution_count": 146,
   "id": "08da321a-2c88-47bc-b230-9b5cc03e9698",
   "metadata": {},
   "outputs": [
    {
     "data": {
      "text/plain": [
       "['samp1', 'samp2', 'samp3']"
      ]
     },
     "execution_count": 146,
     "metadata": {},
     "output_type": "execute_result"
    }
   ],
   "source": [
    "samp"
   ]
  },
  {
   "cell_type": "code",
   "execution_count": 143,
   "id": "4fe9f38f-45cb-43cd-9626-0519c3c655bb",
   "metadata": {},
   "outputs": [
    {
     "data": {
      "text/plain": [
       "<function matplotlib.pyplot.bar(x: 'float | ArrayLike', height: 'float | ArrayLike', width: 'float | ArrayLike' = 0.8, bottom: 'float | ArrayLike | None' = None, *, align: \"Literal['center', 'edge']\" = 'center', data=None, **kwargs) -> 'BarContainer'>"
      ]
     },
     "execution_count": 143,
     "metadata": {},
     "output_type": "execute_result"
    }
   ],
   "source": [
    "plt.bar"
   ]
  },
  {
   "cell_type": "code",
   "execution_count": 150,
   "id": "966724ac-756f-410e-85f0-079208a99975",
   "metadata": {},
   "outputs": [
    {
     "data": {
      "image/png": "[encoded data removed]",
      "text/plain": [
       "<Figure size 640x480 with 1 Axes>"
      ]
     },
     "metadata": {},
     "output_type": "display_data"
    }
   ],
   "source": [
    "width=0.3\n",
    "p=np.arange(len(samp))\n",
    "\n",
    "p1=[j+width for j in p]\n",
    "\n",
    "plt.bar(p,msuv,width,label=\"MaleSuv\",color=\"Blue\")\n",
    "\n",
    "plt.bar(p1,fsuv,width,label=\"FemaleSuv\",color=\"green\")\n",
    "\n",
    "plt.xticks(p+width/2,samp,rotation=20)\n",
    "\n",
    "plt.legend(loc=\"center\")\n",
    "plt.show()"
   ]
  },
  {
   "cell_type": "code",
   "execution_count": 154,
   "id": "c68f0027-8de8-4a21-8197-388e280d7f88",
   "metadata": {},
   "outputs": [
    {
     "data": {
      "text/plain": [
       "[36, 43, 40]"
      ]
     },
     "execution_count": 154,
     "metadata": {},
     "output_type": "execute_result"
    }
   ],
   "source": [
    "msuv"
   ]
  },
  {
   "cell_type": "code",
   "execution_count": 155,
   "id": "a175fcf8-e95f-43eb-95e2-e60ea28d5ec3",
   "metadata": {},
   "outputs": [
    {
     "data": {
      "text/plain": [
       "[173, 173, 173]"
      ]
     },
     "execution_count": 155,
     "metadata": {},
     "output_type": "execute_result"
    }
   ],
   "source": [
    "fsuv"
   ]
  },
  {
   "cell_type": "code",
   "execution_count": 151,
   "id": "1d90f8f7-ce90-42db-8e91-c5ae3fb954b8",
   "metadata": {},
   "outputs": [],
   "source": [
    "new=pd.DataFrame({\"Male\":msuv,\"Female\":fsuv},index=[\"samp1\",\"samp2\",\"samp3\"])"
   ]
  },
  {
   "cell_type": "code",
   "execution_count": 153,
   "id": "c29aedc4-8858-4f65-92c2-0fdcf07f2207",
   "metadata": {},
   "outputs": [
    {
     "data": {
      "text/html": [
       "<div>\n",
       "<style scoped>\n",
       "    .dataframe tbody tr th:only-of-type {\n",
       "        vertical-align: middle;\n",
       "    }\n",
       "\n",
       "    .dataframe tbody tr th {\n",
       "        vertical-align: top;\n",
       "    }\n",
       "\n",
       "    .dataframe thead th {\n",
       "        text-align: right;\n",
       "    }\n",
       "</style>\n",
       "<table border=\"1\" class=\"dataframe\">\n",
       "  <thead>\n",
       "    <tr style=\"text-align: right;\">\n",
       "      <th></th>\n",
       "      <th>Male</th>\n",
       "      <th>Female</th>\n",
       "    </tr>\n",
       "  </thead>\n",
       "  <tbody>\n",
       "    <tr>\n",
       "      <th>samp1</th>\n",
       "      <td>36</td>\n",
       "      <td>173</td>\n",
       "    </tr>\n",
       "    <tr>\n",
       "      <th>samp2</th>\n",
       "      <td>43</td>\n",
       "      <td>173</td>\n",
       "    </tr>\n",
       "    <tr>\n",
       "      <th>samp3</th>\n",
       "      <td>40</td>\n",
       "      <td>173</td>\n",
       "    </tr>\n",
       "  </tbody>\n",
       "</table>\n",
       "</div>"
      ],
      "text/plain": [
       "       Male  Female\n",
       "samp1    36     173\n",
       "samp2    43     173\n",
       "samp3    40     173"
      ]
     },
     "execution_count": 153,
     "metadata": {},
     "output_type": "execute_result"
    }
   ],
   "source": [
    "new"
   ]
  },
  {
   "cell_type": "code",
   "execution_count": 156,
   "id": "91d0fc8c-8c9c-4788-9701-d5f587139996",
   "metadata": {},
   "outputs": [
    {
     "data": {
      "text/plain": [
       "<Axes: >"
      ]
     },
     "execution_count": 156,
     "metadata": {},
     "output_type": "execute_result"
    },
    {
     "data": {
      "image/png": "[encoded data removed]",
      "text/plain": [
       "<Figure size 640x480 with 1 Axes>"
      ]
     },
     "metadata": {},
     "output_type": "display_data"
    }
   ],
   "source": [
    "new.plot.bar(rot=True)             #visual for SUV making comparision between 'male' and 'female' class"
   ]
  },
  {
   "cell_type": "code",
   "execution_count": null,
   "id": "92e415a2-f6a9-4fd7-bb5a-6e0851419c2c",
   "metadata": {},
   "outputs": [],
   "source": [
    "#Result:- females have more SUV making than male"
   ]
  },
  {
   "cell_type": "markdown",
   "id": "414dce2e-76cb-4a36-9548-de3e02f76913",
   "metadata": {},
   "source": [
    "## hatchback Anaslysis"
   ]
  },
  {
   "cell_type": "markdown",
   "id": "3ef4f294-0fc9-4465-9799-cc99f4bacb64",
   "metadata": {},
   "source": [
    "samp1=male.sample(400).groupby(\"Make\").count()"
   ]
  },
  {
   "cell_type": "code",
   "execution_count": 25,
   "id": "8a189a10-78ac-471b-bfd0-92f53a980d56",
   "metadata": {},
   "outputs": [],
   "source": [
    "mhb=[samp1.iloc[0,0],samp2.iloc[0,0],samp3.iloc[0,0]]\n",
    "fhb=[fem.iloc[0,0],fem.iloc[0,0],fem.iloc[0,0]]"
   ]
  },
  {
   "cell_type": "code",
   "execution_count": 27,
   "id": "ee1bb891-c32d-41ba-8481-900cbaf08b9d",
   "metadata": {},
   "outputs": [
    {
     "data": {
      "text/plain": [
       "[202, 199, 170]"
      ]
     },
     "execution_count": 27,
     "metadata": {},
     "output_type": "execute_result"
    }
   ],
   "source": [
    "mhb"
   ]
  },
  {
   "cell_type": "code",
   "execution_count": 28,
   "id": "f0f7cfd4-6bd2-4b54-b9b0-d249ee2233fe",
   "metadata": {},
   "outputs": [
    {
     "data": {
      "text/plain": [
       "[15, 15, 15]"
      ]
     },
     "execution_count": 28,
     "metadata": {},
     "output_type": "execute_result"
    }
   ],
   "source": [
    "fhb"
   ]
  },
  {
   "cell_type": "code",
   "execution_count": 29,
   "id": "b5fabf30-aa7e-4e9f-b894-73ba1eb4f7c7",
   "metadata": {},
   "outputs": [],
   "source": [
    "new_hb=pd.DataFrame({\"Male\":mhb,\"Female\":fhb},index=[\"samp1\",\"samp2\",\"samp3\"])\n"
   ]
  },
  {
   "cell_type": "code",
   "execution_count": 30,
   "id": "4291a06c-1831-42b2-bb62-40a6f6cb8aea",
   "metadata": {},
   "outputs": [
    {
     "data": {
      "text/html": [
       "<div>\n",
       "<style scoped>\n",
       "    .dataframe tbody tr th:only-of-type {\n",
       "        vertical-align: middle;\n",
       "    }\n",
       "\n",
       "    .dataframe tbody tr th {\n",
       "        vertical-align: top;\n",
       "    }\n",
       "\n",
       "    .dataframe thead th {\n",
       "        text-align: right;\n",
       "    }\n",
       "</style>\n",
       "<table border=\"1\" class=\"dataframe\">\n",
       "  <thead>\n",
       "    <tr style=\"text-align: right;\">\n",
       "      <th></th>\n",
       "      <th>Male</th>\n",
       "      <th>Female</th>\n",
       "    </tr>\n",
       "  </thead>\n",
       "  <tbody>\n",
       "    <tr>\n",
       "      <th>samp1</th>\n",
       "      <td>202</td>\n",
       "      <td>15</td>\n",
       "    </tr>\n",
       "    <tr>\n",
       "      <th>samp2</th>\n",
       "      <td>199</td>\n",
       "      <td>15</td>\n",
       "    </tr>\n",
       "    <tr>\n",
       "      <th>samp3</th>\n",
       "      <td>170</td>\n",
       "      <td>15</td>\n",
       "    </tr>\n",
       "  </tbody>\n",
       "</table>\n",
       "</div>"
      ],
      "text/plain": [
       "       Male  Female\n",
       "samp1   202      15\n",
       "samp2   199      15\n",
       "samp3   170      15"
      ]
     },
     "execution_count": 30,
     "metadata": {},
     "output_type": "execute_result"
    }
   ],
   "source": [
    "new_hb"
   ]
  },
  {
   "cell_type": "code",
   "execution_count": 31,
   "id": "9fbc7043-dfdc-4d0e-a278-ef81ccae3bd9",
   "metadata": {},
   "outputs": [
    {
     "data": {
      "text/plain": [
       "<Axes: >"
      ]
     },
     "execution_count": 31,
     "metadata": {},
     "output_type": "execute_result"
    },
    {
     "data": {
      "image/png": "[encoded data removed]",
      "text/plain": [
       "<Figure size 640x480 with 1 Axes>"
      ]
     },
     "metadata": {},
     "output_type": "display_data"
    }
   ],
   "source": [
    "new_hb.plot.bar(rot=True)   "
   ]
  },
  {
   "cell_type": "code",
   "execution_count": null,
   "id": "8b304977-77d4-4af5-8b1b-3d3675add45f",
   "metadata": {},
   "outputs": [],
   "source": [
    "#Male make \"Hatchbacks\" more as compared to Female class"
   ]
  },
  {
   "cell_type": "markdown",
   "id": "fc35bf85-a90e-4849-b98a-c8086d519f97",
   "metadata": {},
   "source": [
    "## Sedan Analysis"
   ]
  },
  {
   "cell_type": "code",
   "execution_count": 34,
   "id": "185ec8d5-2bf7-413c-b418-f14066c50c63",
   "metadata": {},
   "outputs": [],
   "source": [
    "mshb=[samp1.iloc[2,0],samp2.iloc[2,0],samp3.iloc[2,0]]\n",
    "fshb=[fem.iloc[2,0],fem.iloc[2,0],fem.iloc[2,0]]"
   ]
  },
  {
   "cell_type": "code",
   "execution_count": 35,
   "id": "f07a80a9-d72c-4533-8bd6-a7ca40bb1a12",
   "metadata": {},
   "outputs": [
    {
     "data": {
      "text/plain": [
       "[167, 169, 181]"
      ]
     },
     "execution_count": 35,
     "metadata": {},
     "output_type": "execute_result"
    }
   ],
   "source": [
    "mshb"
   ]
  },
  {
   "cell_type": "code",
   "execution_count": 36,
   "id": "1bc79965-041d-40fd-ae43-4d6e898383b3",
   "metadata": {},
   "outputs": [
    {
     "data": {
      "text/plain": [
       "[141, 141, 141]"
      ]
     },
     "execution_count": 36,
     "metadata": {},
     "output_type": "execute_result"
    }
   ],
   "source": [
    "fshb"
   ]
  },
  {
   "cell_type": "code",
   "execution_count": 53,
   "id": "ef05d23c-ad50-4886-8400-f8b35932e1b7",
   "metadata": {},
   "outputs": [],
   "source": [
    "new_sd=pd.DataFrame({\"Male\":mshb,\"Female\":fshb},index=[\"samp1\",\"samp2\",\"samp3\"])"
   ]
  },
  {
   "cell_type": "code",
   "execution_count": 54,
   "id": "976168e1-e680-454e-a0ee-d38391afad45",
   "metadata": {},
   "outputs": [
    {
     "data": {
      "text/plain": [
       "<Axes: >"
      ]
     },
     "execution_count": 54,
     "metadata": {},
     "output_type": "execute_result"
    },
    {
     "data": {
      "image/png": "[encoded data removed]",
      "text/plain": [
       "<Figure size 640x480 with 1 Axes>"
      ]
     },
     "metadata": {},
     "output_type": "display_data"
    }
   ],
   "source": [
    "new_sd.plot.bar(rot=True)   "
   ]
  },
  {
   "cell_type": "code",
   "execution_count": null,
   "id": "62bab267-28ff-42f1-81c1-4dd08747e77e",
   "metadata": {},
   "outputs": [],
   "source": [
    "#result - male class usess sedan more than female class"
   ]
  },
  {
   "cell_type": "markdown",
   "id": "d83ef94b-1c86-4264-9430-74106517293d",
   "metadata": {},
   "source": [
    "## 2.ANalsysis - which Profession uses which type of car making"
   ]
  },
  {
   "cell_type": "code",
   "execution_count": 37,
   "id": "3ef7be26-40f8-4f2e-ba90-f41b5fc7dcec",
   "metadata": {},
   "outputs": [
    {
     "data": {
      "text/html": [
       "<div>\n",
       "<style scoped>\n",
       "    .dataframe tbody tr th:only-of-type {\n",
       "        vertical-align: middle;\n",
       "    }\n",
       "\n",
       "    .dataframe tbody tr th {\n",
       "        vertical-align: top;\n",
       "    }\n",
       "\n",
       "    .dataframe thead th {\n",
       "        text-align: right;\n",
       "    }\n",
       "</style>\n",
       "<table border=\"1\" class=\"dataframe\">\n",
       "  <thead>\n",
       "    <tr style=\"text-align: right;\">\n",
       "      <th></th>\n",
       "      <th>Age</th>\n",
       "      <th>Gender</th>\n",
       "      <th>Profession</th>\n",
       "      <th>Marital_status</th>\n",
       "      <th>Education</th>\n",
       "      <th>No_of_Dependents</th>\n",
       "      <th>Personal_loan</th>\n",
       "      <th>House_loan</th>\n",
       "      <th>Partner_working</th>\n",
       "      <th>Salary</th>\n",
       "      <th>Partner_salary</th>\n",
       "      <th>Total_salary</th>\n",
       "      <th>Price</th>\n",
       "      <th>Make</th>\n",
       "    </tr>\n",
       "  </thead>\n",
       "  <tbody>\n",
       "    <tr>\n",
       "      <th>0</th>\n",
       "      <td>53</td>\n",
       "      <td>Male</td>\n",
       "      <td>Business</td>\n",
       "      <td>Married</td>\n",
       "      <td>Post Graduate</td>\n",
       "      <td>4</td>\n",
       "      <td>No</td>\n",
       "      <td>No</td>\n",
       "      <td>Yes</td>\n",
       "      <td>99300</td>\n",
       "      <td>70700.0</td>\n",
       "      <td>170000</td>\n",
       "      <td>61000</td>\n",
       "      <td>SUV</td>\n",
       "    </tr>\n",
       "    <tr>\n",
       "      <th>1</th>\n",
       "      <td>53</td>\n",
       "      <td>Femal</td>\n",
       "      <td>Salaried</td>\n",
       "      <td>Married</td>\n",
       "      <td>Post Graduate</td>\n",
       "      <td>4</td>\n",
       "      <td>Yes</td>\n",
       "      <td>No</td>\n",
       "      <td>Yes</td>\n",
       "      <td>95500</td>\n",
       "      <td>70300.0</td>\n",
       "      <td>165800</td>\n",
       "      <td>61000</td>\n",
       "      <td>SUV</td>\n",
       "    </tr>\n",
       "    <tr>\n",
       "      <th>2</th>\n",
       "      <td>53</td>\n",
       "      <td>Female</td>\n",
       "      <td>Salaried</td>\n",
       "      <td>Married</td>\n",
       "      <td>Post Graduate</td>\n",
       "      <td>3</td>\n",
       "      <td>No</td>\n",
       "      <td>No</td>\n",
       "      <td>Yes</td>\n",
       "      <td>97300</td>\n",
       "      <td>60700.0</td>\n",
       "      <td>158000</td>\n",
       "      <td>57000</td>\n",
       "      <td>SUV</td>\n",
       "    </tr>\n",
       "    <tr>\n",
       "      <th>3</th>\n",
       "      <td>53</td>\n",
       "      <td>Female</td>\n",
       "      <td>Salaried</td>\n",
       "      <td>Married</td>\n",
       "      <td>Graduate</td>\n",
       "      <td>2</td>\n",
       "      <td>Yes</td>\n",
       "      <td>No</td>\n",
       "      <td>Yes</td>\n",
       "      <td>72500</td>\n",
       "      <td>70300.0</td>\n",
       "      <td>142800</td>\n",
       "      <td>61000</td>\n",
       "      <td>SUV</td>\n",
       "    </tr>\n",
       "    <tr>\n",
       "      <th>4</th>\n",
       "      <td>53</td>\n",
       "      <td>Male</td>\n",
       "      <td>Salaried</td>\n",
       "      <td>Married</td>\n",
       "      <td>Post Graduate</td>\n",
       "      <td>3</td>\n",
       "      <td>No</td>\n",
       "      <td>No</td>\n",
       "      <td>Yes</td>\n",
       "      <td>79700</td>\n",
       "      <td>60200.0</td>\n",
       "      <td>139900</td>\n",
       "      <td>57000</td>\n",
       "      <td>SUV</td>\n",
       "    </tr>\n",
       "    <tr>\n",
       "      <th>...</th>\n",
       "      <td>...</td>\n",
       "      <td>...</td>\n",
       "      <td>...</td>\n",
       "      <td>...</td>\n",
       "      <td>...</td>\n",
       "      <td>...</td>\n",
       "      <td>...</td>\n",
       "      <td>...</td>\n",
       "      <td>...</td>\n",
       "      <td>...</td>\n",
       "      <td>...</td>\n",
       "      <td>...</td>\n",
       "      <td>...</td>\n",
       "      <td>...</td>\n",
       "    </tr>\n",
       "    <tr>\n",
       "      <th>1576</th>\n",
       "      <td>22</td>\n",
       "      <td>Male</td>\n",
       "      <td>Salaried</td>\n",
       "      <td>Single</td>\n",
       "      <td>Graduate</td>\n",
       "      <td>2</td>\n",
       "      <td>No</td>\n",
       "      <td>Yes</td>\n",
       "      <td>No</td>\n",
       "      <td>33300</td>\n",
       "      <td>0.0</td>\n",
       "      <td>33300</td>\n",
       "      <td>27000</td>\n",
       "      <td>Hatchback</td>\n",
       "    </tr>\n",
       "    <tr>\n",
       "      <th>1577</th>\n",
       "      <td>22</td>\n",
       "      <td>Male</td>\n",
       "      <td>Business</td>\n",
       "      <td>Married</td>\n",
       "      <td>Graduate</td>\n",
       "      <td>4</td>\n",
       "      <td>No</td>\n",
       "      <td>No</td>\n",
       "      <td>No</td>\n",
       "      <td>32000</td>\n",
       "      <td>NaN</td>\n",
       "      <td>32000</td>\n",
       "      <td>31000</td>\n",
       "      <td>Hatchback</td>\n",
       "    </tr>\n",
       "    <tr>\n",
       "      <th>1578</th>\n",
       "      <td>22</td>\n",
       "      <td>Male</td>\n",
       "      <td>Business</td>\n",
       "      <td>Single</td>\n",
       "      <td>Graduate</td>\n",
       "      <td>2</td>\n",
       "      <td>No</td>\n",
       "      <td>Yes</td>\n",
       "      <td>No</td>\n",
       "      <td>32900</td>\n",
       "      <td>0.0</td>\n",
       "      <td>32900</td>\n",
       "      <td>30000</td>\n",
       "      <td>Hatchback</td>\n",
       "    </tr>\n",
       "    <tr>\n",
       "      <th>1579</th>\n",
       "      <td>22</td>\n",
       "      <td>Male</td>\n",
       "      <td>Business</td>\n",
       "      <td>Married</td>\n",
       "      <td>Graduate</td>\n",
       "      <td>3</td>\n",
       "      <td>Yes</td>\n",
       "      <td>Yes</td>\n",
       "      <td>No</td>\n",
       "      <td>32200</td>\n",
       "      <td>NaN</td>\n",
       "      <td>32200</td>\n",
       "      <td>24000</td>\n",
       "      <td>Hatchback</td>\n",
       "    </tr>\n",
       "    <tr>\n",
       "      <th>1580</th>\n",
       "      <td>22</td>\n",
       "      <td>Male</td>\n",
       "      <td>Salaried</td>\n",
       "      <td>Married</td>\n",
       "      <td>Graduate</td>\n",
       "      <td>4</td>\n",
       "      <td>No</td>\n",
       "      <td>No</td>\n",
       "      <td>No</td>\n",
       "      <td>31600</td>\n",
       "      <td>0.0</td>\n",
       "      <td>31600</td>\n",
       "      <td>31000</td>\n",
       "      <td>Hatchback</td>\n",
       "    </tr>\n",
       "  </tbody>\n",
       "</table>\n",
       "<p>1581 rows × 14 columns</p>\n",
       "</div>"
      ],
      "text/plain": [
       "      Age  Gender Profession Marital_status      Education  No_of_Dependents  \\\n",
       "0      53    Male   Business        Married  Post Graduate                 4   \n",
       "1      53   Femal   Salaried        Married  Post Graduate                 4   \n",
       "2      53  Female   Salaried        Married  Post Graduate                 3   \n",
       "3      53  Female   Salaried        Married       Graduate                 2   \n",
       "4      53    Male   Salaried        Married  Post Graduate                 3   \n",
       "...   ...     ...        ...            ...            ...               ...   \n",
       "1576   22    Male   Salaried         Single       Graduate                 2   \n",
       "1577   22    Male   Business        Married       Graduate                 4   \n",
       "1578   22    Male   Business         Single       Graduate                 2   \n",
       "1579   22    Male   Business        Married       Graduate                 3   \n",
       "1580   22    Male   Salaried        Married       Graduate                 4   \n",
       "\n",
       "     Personal_loan House_loan Partner_working  Salary  Partner_salary  \\\n",
       "0               No         No             Yes   99300         70700.0   \n",
       "1              Yes         No             Yes   95500         70300.0   \n",
       "2               No         No             Yes   97300         60700.0   \n",
       "3              Yes         No             Yes   72500         70300.0   \n",
       "4               No         No             Yes   79700         60200.0   \n",
       "...            ...        ...             ...     ...             ...   \n",
       "1576            No        Yes              No   33300             0.0   \n",
       "1577            No         No              No   32000             NaN   \n",
       "1578            No        Yes              No   32900             0.0   \n",
       "1579           Yes        Yes              No   32200             NaN   \n",
       "1580            No         No              No   31600             0.0   \n",
       "\n",
       "      Total_salary  Price       Make  \n",
       "0           170000  61000        SUV  \n",
       "1           165800  61000        SUV  \n",
       "2           158000  57000        SUV  \n",
       "3           142800  61000        SUV  \n",
       "4           139900  57000        SUV  \n",
       "...            ...    ...        ...  \n",
       "1576         33300  27000  Hatchback  \n",
       "1577         32000  31000  Hatchback  \n",
       "1578         32900  30000  Hatchback  \n",
       "1579         32200  24000  Hatchback  \n",
       "1580         31600  31000  Hatchback  \n",
       "\n",
       "[1581 rows x 14 columns]"
      ]
     },
     "execution_count": 37,
     "metadata": {},
     "output_type": "execute_result"
    }
   ],
   "source": [
    "df"
   ]
  },
  {
   "cell_type": "code",
   "execution_count": 39,
   "id": "dadfac2c-b1d5-48ac-b760-78ddb79a5006",
   "metadata": {},
   "outputs": [],
   "source": [
    "pro=df.loc[:,[\"Profession\",\"Make\"]]"
   ]
  },
  {
   "cell_type": "code",
   "execution_count": 61,
   "id": "71d26e85-cce5-4e59-8cc3-f0dbe1225fec",
   "metadata": {},
   "outputs": [
    {
     "data": {
      "text/plain": [
       "Make\n",
       "Sedan        702\n",
       "Hatchback    582\n",
       "SUV          297\n",
       "Name: count, dtype: int64"
      ]
     },
     "execution_count": 61,
     "metadata": {},
     "output_type": "execute_result"
    }
   ],
   "source": [
    "pro.Make.value_counts()"
   ]
  },
  {
   "cell_type": "code",
   "execution_count": 55,
   "id": "16e14344-df92-4f95-80f9-6a4edd4cafc1",
   "metadata": {},
   "outputs": [
    {
     "data": {
      "text/plain": [
       "array(['Business', 'Salaried'], dtype=object)"
      ]
     },
     "execution_count": 55,
     "metadata": {},
     "output_type": "execute_result"
    }
   ],
   "source": [
    "pro.Profession.unique()"
   ]
  },
  {
   "cell_type": "code",
   "execution_count": 56,
   "id": "44208bb3-d373-4880-8743-5697dbca3b68",
   "metadata": {},
   "outputs": [],
   "source": [
    "#make sepeated dataset for both business and salarried profession people\n",
    "#salarried professioin dataset\n",
    "spro=pro.where(pro.Profession==\"Salaried\").dropna()\n",
    "\n",
    "#business professioin dataset\n",
    "bpro=pro.where(pro.Profession==\"Business\").dropna()"
   ]
  },
  {
   "cell_type": "code",
   "execution_count": 57,
   "id": "bc33ca82-bd83-433f-9bed-a5c4e596b17f",
   "metadata": {},
   "outputs": [
    {
     "data": {
      "text/html": [
       "<div>\n",
       "<style scoped>\n",
       "    .dataframe tbody tr th:only-of-type {\n",
       "        vertical-align: middle;\n",
       "    }\n",
       "\n",
       "    .dataframe tbody tr th {\n",
       "        vertical-align: top;\n",
       "    }\n",
       "\n",
       "    .dataframe thead th {\n",
       "        text-align: right;\n",
       "    }\n",
       "</style>\n",
       "<table border=\"1\" class=\"dataframe\">\n",
       "  <thead>\n",
       "    <tr style=\"text-align: right;\">\n",
       "      <th></th>\n",
       "      <th>Profession</th>\n",
       "      <th>Make</th>\n",
       "    </tr>\n",
       "  </thead>\n",
       "  <tbody>\n",
       "    <tr>\n",
       "      <th>1</th>\n",
       "      <td>Salaried</td>\n",
       "      <td>SUV</td>\n",
       "    </tr>\n",
       "    <tr>\n",
       "      <th>2</th>\n",
       "      <td>Salaried</td>\n",
       "      <td>SUV</td>\n",
       "    </tr>\n",
       "    <tr>\n",
       "      <th>3</th>\n",
       "      <td>Salaried</td>\n",
       "      <td>SUV</td>\n",
       "    </tr>\n",
       "    <tr>\n",
       "      <th>4</th>\n",
       "      <td>Salaried</td>\n",
       "      <td>SUV</td>\n",
       "    </tr>\n",
       "    <tr>\n",
       "      <th>5</th>\n",
       "      <td>Salaried</td>\n",
       "      <td>SUV</td>\n",
       "    </tr>\n",
       "    <tr>\n",
       "      <th>...</th>\n",
       "      <td>...</td>\n",
       "      <td>...</td>\n",
       "    </tr>\n",
       "    <tr>\n",
       "      <th>1569</th>\n",
       "      <td>Salaried</td>\n",
       "      <td>Hatchback</td>\n",
       "    </tr>\n",
       "    <tr>\n",
       "      <th>1574</th>\n",
       "      <td>Salaried</td>\n",
       "      <td>Sedan</td>\n",
       "    </tr>\n",
       "    <tr>\n",
       "      <th>1575</th>\n",
       "      <td>Salaried</td>\n",
       "      <td>Hatchback</td>\n",
       "    </tr>\n",
       "    <tr>\n",
       "      <th>1576</th>\n",
       "      <td>Salaried</td>\n",
       "      <td>Hatchback</td>\n",
       "    </tr>\n",
       "    <tr>\n",
       "      <th>1580</th>\n",
       "      <td>Salaried</td>\n",
       "      <td>Hatchback</td>\n",
       "    </tr>\n",
       "  </tbody>\n",
       "</table>\n",
       "<p>896 rows × 2 columns</p>\n",
       "</div>"
      ],
      "text/plain": [
       "     Profession       Make\n",
       "1      Salaried        SUV\n",
       "2      Salaried        SUV\n",
       "3      Salaried        SUV\n",
       "4      Salaried        SUV\n",
       "5      Salaried        SUV\n",
       "...         ...        ...\n",
       "1569   Salaried  Hatchback\n",
       "1574   Salaried      Sedan\n",
       "1575   Salaried  Hatchback\n",
       "1576   Salaried  Hatchback\n",
       "1580   Salaried  Hatchback\n",
       "\n",
       "[896 rows x 2 columns]"
      ]
     },
     "execution_count": 57,
     "metadata": {},
     "output_type": "execute_result"
    }
   ],
   "source": [
    "spro"
   ]
  },
  {
   "cell_type": "code",
   "execution_count": 58,
   "id": "a1413dce-095f-435b-9814-862e11e0893d",
   "metadata": {},
   "outputs": [],
   "source": [
    "spro=spro.groupby(\"Make\").count().rename(columns={\"Profession\":\"Salaried\"})\n",
    "bpro=bpro.groupby(\"Make\").count().rename(columns={\"Profession\":\"Business\"})"
   ]
  },
  {
   "cell_type": "code",
   "execution_count": 59,
   "id": "f39b5092-34c0-402f-a167-28037ebc2b24",
   "metadata": {},
   "outputs": [
    {
     "data": {
      "text/html": [
       "<div>\n",
       "<style scoped>\n",
       "    .dataframe tbody tr th:only-of-type {\n",
       "        vertical-align: middle;\n",
       "    }\n",
       "\n",
       "    .dataframe tbody tr th {\n",
       "        vertical-align: top;\n",
       "    }\n",
       "\n",
       "    .dataframe thead th {\n",
       "        text-align: right;\n",
       "    }\n",
       "</style>\n",
       "<table border=\"1\" class=\"dataframe\">\n",
       "  <thead>\n",
       "    <tr style=\"text-align: right;\">\n",
       "      <th></th>\n",
       "      <th>Salaried</th>\n",
       "    </tr>\n",
       "    <tr>\n",
       "      <th>Make</th>\n",
       "      <th></th>\n",
       "    </tr>\n",
       "  </thead>\n",
       "  <tbody>\n",
       "    <tr>\n",
       "      <th>Hatchback</th>\n",
       "      <td>292</td>\n",
       "    </tr>\n",
       "    <tr>\n",
       "      <th>SUV</th>\n",
       "      <td>208</td>\n",
       "    </tr>\n",
       "    <tr>\n",
       "      <th>Sedan</th>\n",
       "      <td>396</td>\n",
       "    </tr>\n",
       "  </tbody>\n",
       "</table>\n",
       "</div>"
      ],
      "text/plain": [
       "           Salaried\n",
       "Make               \n",
       "Hatchback       292\n",
       "SUV             208\n",
       "Sedan           396"
      ]
     },
     "execution_count": 59,
     "metadata": {},
     "output_type": "execute_result"
    }
   ],
   "source": [
    "spro"
   ]
  },
  {
   "cell_type": "code",
   "execution_count": 60,
   "id": "37be92ba-83f0-4ebd-b28f-27ec3a54e014",
   "metadata": {},
   "outputs": [
    {
     "data": {
      "text/html": [
       "<div>\n",
       "<style scoped>\n",
       "    .dataframe tbody tr th:only-of-type {\n",
       "        vertical-align: middle;\n",
       "    }\n",
       "\n",
       "    .dataframe tbody tr th {\n",
       "        vertical-align: top;\n",
       "    }\n",
       "\n",
       "    .dataframe thead th {\n",
       "        text-align: right;\n",
       "    }\n",
       "</style>\n",
       "<table border=\"1\" class=\"dataframe\">\n",
       "  <thead>\n",
       "    <tr style=\"text-align: right;\">\n",
       "      <th></th>\n",
       "      <th>Business</th>\n",
       "    </tr>\n",
       "    <tr>\n",
       "      <th>Make</th>\n",
       "      <th></th>\n",
       "    </tr>\n",
       "  </thead>\n",
       "  <tbody>\n",
       "    <tr>\n",
       "      <th>Hatchback</th>\n",
       "      <td>290</td>\n",
       "    </tr>\n",
       "    <tr>\n",
       "      <th>SUV</th>\n",
       "      <td>89</td>\n",
       "    </tr>\n",
       "    <tr>\n",
       "      <th>Sedan</th>\n",
       "      <td>306</td>\n",
       "    </tr>\n",
       "  </tbody>\n",
       "</table>\n",
       "</div>"
      ],
      "text/plain": [
       "           Business\n",
       "Make               \n",
       "Hatchback       290\n",
       "SUV              89\n",
       "Sedan           306"
      ]
     },
     "execution_count": 60,
     "metadata": {},
     "output_type": "execute_result"
    }
   ],
   "source": [
    "bpro"
   ]
  },
  {
   "cell_type": "code",
   "execution_count": 62,
   "id": "410c5ac6-06bf-4aa5-8a29-66854f94de5b",
   "metadata": {},
   "outputs": [
    {
     "data": {
      "text/plain": [
       "Profession\n",
       "Business    685\n",
       "Salaried    896\n",
       "Name: Make, dtype: int64"
      ]
     },
     "execution_count": 62,
     "metadata": {},
     "output_type": "execute_result"
    }
   ],
   "source": [
    "df.groupby(\"Profession\")[\"Make\"].count()"
   ]
  },
  {
   "cell_type": "code",
   "execution_count": 67,
   "id": "fcd78b28-dfbb-45dc-b708-d7461a276e96",
   "metadata": {},
   "outputs": [
    {
     "data": {
      "text/plain": [
       "Profession\n",
       "Salaried    896\n",
       "Business    685\n",
       "Name: count, dtype: int64"
      ]
     },
     "execution_count": 67,
     "metadata": {},
     "output_type": "execute_result"
    }
   ],
   "source": [
    "pro.Profession.value_counts()         #there is only 200 gap bet both class so we can directly compare them"
   ]
  },
  {
   "cell_type": "code",
   "execution_count": 77,
   "id": "960dd20f-8bf9-4e7d-aa86-79e9357509ce",
   "metadata": {},
   "outputs": [],
   "source": [
    "#there is much diff in SUV and sedan making only\n",
    "a=[spro.iloc[1,0],spro.iloc[2][0]]           #salried person\n",
    "b=[bpro.iloc[1,0],bpro.iloc[2][0]]           #business person"
   ]
  },
  {
   "cell_type": "code",
   "execution_count": 78,
   "id": "6f89c744-a14a-4541-94c3-d63f614234e4",
   "metadata": {},
   "outputs": [
    {
     "data": {
      "text/plain": [
       "[208, 396]"
      ]
     },
     "execution_count": 78,
     "metadata": {},
     "output_type": "execute_result"
    }
   ],
   "source": [
    "a"
   ]
  },
  {
   "cell_type": "code",
   "execution_count": 79,
   "id": "2489f0b4-e9ba-4e6d-9b57-bf456502dd4d",
   "metadata": {},
   "outputs": [
    {
     "data": {
      "text/plain": [
       "[89, 306]"
      ]
     },
     "execution_count": 79,
     "metadata": {},
     "output_type": "execute_result"
    }
   ],
   "source": [
    "b"
   ]
  },
  {
   "cell_type": "code",
   "execution_count": 88,
   "id": "fdb50519-0605-431d-988a-0c68321d625b",
   "metadata": {},
   "outputs": [],
   "source": [
    "proD=pd.DataFrame({\"Salaried\":a,\"Business\":b},index=[\"SUV\",\"Sedan\"])"
   ]
  },
  {
   "cell_type": "code",
   "execution_count": 89,
   "id": "ffe43c9d-9c47-4765-b653-1a8fe1ab7a4e",
   "metadata": {},
   "outputs": [
    {
     "data": {
      "text/html": [
       "<div>\n",
       "<style scoped>\n",
       "    .dataframe tbody tr th:only-of-type {\n",
       "        vertical-align: middle;\n",
       "    }\n",
       "\n",
       "    .dataframe tbody tr th {\n",
       "        vertical-align: top;\n",
       "    }\n",
       "\n",
       "    .dataframe thead th {\n",
       "        text-align: right;\n",
       "    }\n",
       "</style>\n",
       "<table border=\"1\" class=\"dataframe\">\n",
       "  <thead>\n",
       "    <tr style=\"text-align: right;\">\n",
       "      <th></th>\n",
       "      <th>Salaried</th>\n",
       "      <th>Business</th>\n",
       "    </tr>\n",
       "  </thead>\n",
       "  <tbody>\n",
       "    <tr>\n",
       "      <th>SUV</th>\n",
       "      <td>208</td>\n",
       "      <td>89</td>\n",
       "    </tr>\n",
       "    <tr>\n",
       "      <th>Sedan</th>\n",
       "      <td>396</td>\n",
       "      <td>306</td>\n",
       "    </tr>\n",
       "  </tbody>\n",
       "</table>\n",
       "</div>"
      ],
      "text/plain": [
       "       Salaried  Business\n",
       "SUV         208        89\n",
       "Sedan       396       306"
      ]
     },
     "execution_count": 89,
     "metadata": {},
     "output_type": "execute_result"
    }
   ],
   "source": [
    "proD"
   ]
  },
  {
   "cell_type": "code",
   "execution_count": 90,
   "id": "07f8d09d-0b63-4b5f-9076-5108f29675b1",
   "metadata": {},
   "outputs": [
    {
     "data": {
      "text/plain": [
       "<Axes: >"
      ]
     },
     "execution_count": 90,
     "metadata": {},
     "output_type": "execute_result"
    },
    {
     "data": {
      "image/png": "[encoded data removed]",
      "text/plain": [
       "<Figure size 640x480 with 1 Axes>"
      ]
     },
     "metadata": {},
     "output_type": "display_data"
    }
   ],
   "source": [
    "proD.plot.bar(rot=True)"
   ]
  },
  {
   "cell_type": "code",
   "execution_count": null,
   "id": "c8f565d2-f7ed-414b-a127-11c16dd8da0c",
   "metadata": {},
   "outputs": [],
   "source": [
    "#Result-\n",
    "#Salaried Persons are more likely to buy SUV\n",
    "#By previous analysis we know that the females are perferring SUV so we can say : Salaried Females are more likely to buy SUV- salaried Females- SUV"
   ]
  },
  {
   "cell_type": "markdown",
   "id": "043faff8-bee5-4c4e-abfb-9e2fc2f9098d",
   "metadata": {},
   "source": [
    "## Analsis on the basis of Personal loan"
   ]
  },
  {
   "cell_type": "code",
   "execution_count": 6,
   "id": "dfb87295-2750-4fd1-a081-ad0efb8ff752",
   "metadata": {},
   "outputs": [],
   "source": [
    "loan=df[[\"Personal_loan\",\"Make\"]]"
   ]
  },
  {
   "cell_type": "code",
   "execution_count": 7,
   "id": "8938fa08-2dfd-4f27-bc18-bc4a47446c2a",
   "metadata": {},
   "outputs": [
    {
     "data": {
      "text/html": [
       "<div>\n",
       "<style scoped>\n",
       "    .dataframe tbody tr th:only-of-type {\n",
       "        vertical-align: middle;\n",
       "    }\n",
       "\n",
       "    .dataframe tbody tr th {\n",
       "        vertical-align: top;\n",
       "    }\n",
       "\n",
       "    .dataframe thead th {\n",
       "        text-align: right;\n",
       "    }\n",
       "</style>\n",
       "<table border=\"1\" class=\"dataframe\">\n",
       "  <thead>\n",
       "    <tr style=\"text-align: right;\">\n",
       "      <th></th>\n",
       "      <th>Personal_loan</th>\n",
       "      <th>Make</th>\n",
       "    </tr>\n",
       "  </thead>\n",
       "  <tbody>\n",
       "    <tr>\n",
       "      <th>0</th>\n",
       "      <td>No</td>\n",
       "      <td>SUV</td>\n",
       "    </tr>\n",
       "    <tr>\n",
       "      <th>1</th>\n",
       "      <td>Yes</td>\n",
       "      <td>SUV</td>\n",
       "    </tr>\n",
       "    <tr>\n",
       "      <th>2</th>\n",
       "      <td>No</td>\n",
       "      <td>SUV</td>\n",
       "    </tr>\n",
       "    <tr>\n",
       "      <th>3</th>\n",
       "      <td>Yes</td>\n",
       "      <td>SUV</td>\n",
       "    </tr>\n",
       "    <tr>\n",
       "      <th>4</th>\n",
       "      <td>No</td>\n",
       "      <td>SUV</td>\n",
       "    </tr>\n",
       "    <tr>\n",
       "      <th>...</th>\n",
       "      <td>...</td>\n",
       "      <td>...</td>\n",
       "    </tr>\n",
       "    <tr>\n",
       "      <th>1576</th>\n",
       "      <td>No</td>\n",
       "      <td>Hatchback</td>\n",
       "    </tr>\n",
       "    <tr>\n",
       "      <th>1577</th>\n",
       "      <td>No</td>\n",
       "      <td>Hatchback</td>\n",
       "    </tr>\n",
       "    <tr>\n",
       "      <th>1578</th>\n",
       "      <td>No</td>\n",
       "      <td>Hatchback</td>\n",
       "    </tr>\n",
       "    <tr>\n",
       "      <th>1579</th>\n",
       "      <td>Yes</td>\n",
       "      <td>Hatchback</td>\n",
       "    </tr>\n",
       "    <tr>\n",
       "      <th>1580</th>\n",
       "      <td>No</td>\n",
       "      <td>Hatchback</td>\n",
       "    </tr>\n",
       "  </tbody>\n",
       "</table>\n",
       "<p>1581 rows × 2 columns</p>\n",
       "</div>"
      ],
      "text/plain": [
       "     Personal_loan       Make\n",
       "0               No        SUV\n",
       "1              Yes        SUV\n",
       "2               No        SUV\n",
       "3              Yes        SUV\n",
       "4               No        SUV\n",
       "...            ...        ...\n",
       "1576            No  Hatchback\n",
       "1577            No  Hatchback\n",
       "1578            No  Hatchback\n",
       "1579           Yes  Hatchback\n",
       "1580            No  Hatchback\n",
       "\n",
       "[1581 rows x 2 columns]"
      ]
     },
     "execution_count": 7,
     "metadata": {},
     "output_type": "execute_result"
    }
   ],
   "source": [
    "loan"
   ]
  },
  {
   "cell_type": "code",
   "execution_count": 8,
   "id": "f5929e5c-5042-468c-bf2e-c22e3466cac4",
   "metadata": {},
   "outputs": [
    {
     "data": {
      "text/plain": [
       "Personal_loan  Make     \n",
       "Yes            Sedan        385\n",
       "No             Sedan        317\n",
       "               Hatchback    291\n",
       "Yes            Hatchback    291\n",
       "No             SUV          181\n",
       "Yes            SUV          116\n",
       "Name: count, dtype: int64"
      ]
     },
     "execution_count": 8,
     "metadata": {},
     "output_type": "execute_result"
    }
   ],
   "source": [
    "loan.value_counts()"
   ]
  },
  {
   "cell_type": "code",
   "execution_count": 9,
   "id": "b0ad0da4-484b-47e9-9b33-577d24792807",
   "metadata": {},
   "outputs": [
    {
     "data": {
      "text/html": [
       "<div>\n",
       "<style scoped>\n",
       "    .dataframe tbody tr th:only-of-type {\n",
       "        vertical-align: middle;\n",
       "    }\n",
       "\n",
       "    .dataframe tbody tr th {\n",
       "        vertical-align: top;\n",
       "    }\n",
       "\n",
       "    .dataframe thead th {\n",
       "        text-align: right;\n",
       "    }\n",
       "</style>\n",
       "<table border=\"1\" class=\"dataframe\">\n",
       "  <thead>\n",
       "    <tr style=\"text-align: right;\">\n",
       "      <th></th>\n",
       "      <th>Personal_loan</th>\n",
       "    </tr>\n",
       "    <tr>\n",
       "      <th>Make</th>\n",
       "      <th></th>\n",
       "    </tr>\n",
       "  </thead>\n",
       "  <tbody>\n",
       "    <tr>\n",
       "      <th>Hatchback</th>\n",
       "      <td>582</td>\n",
       "    </tr>\n",
       "    <tr>\n",
       "      <th>SUV</th>\n",
       "      <td>297</td>\n",
       "    </tr>\n",
       "    <tr>\n",
       "      <th>Sedan</th>\n",
       "      <td>702</td>\n",
       "    </tr>\n",
       "  </tbody>\n",
       "</table>\n",
       "</div>"
      ],
      "text/plain": [
       "           Personal_loan\n",
       "Make                    \n",
       "Hatchback            582\n",
       "SUV                  297\n",
       "Sedan                702"
      ]
     },
     "execution_count": 9,
     "metadata": {},
     "output_type": "execute_result"
    }
   ],
   "source": [
    "loan.groupby(\"Make\").count()"
   ]
  },
  {
   "cell_type": "code",
   "execution_count": 20,
   "id": "0350e06f-ad4c-400c-acbc-7b909f6d3961",
   "metadata": {},
   "outputs": [],
   "source": [
    "yes=loan.where(loan.Personal_loan==\"Yes\").dropna()\n"
   ]
  },
  {
   "cell_type": "code",
   "execution_count": 21,
   "id": "7d034118-5d1a-4ff4-88f6-3b7e3eadf9ff",
   "metadata": {},
   "outputs": [
    {
     "data": {
      "text/html": [
       "<div>\n",
       "<style scoped>\n",
       "    .dataframe tbody tr th:only-of-type {\n",
       "        vertical-align: middle;\n",
       "    }\n",
       "\n",
       "    .dataframe tbody tr th {\n",
       "        vertical-align: top;\n",
       "    }\n",
       "\n",
       "    .dataframe thead th {\n",
       "        text-align: right;\n",
       "    }\n",
       "</style>\n",
       "<table border=\"1\" class=\"dataframe\">\n",
       "  <thead>\n",
       "    <tr style=\"text-align: right;\">\n",
       "      <th></th>\n",
       "      <th>Personal_loan</th>\n",
       "      <th>Make</th>\n",
       "    </tr>\n",
       "  </thead>\n",
       "  <tbody>\n",
       "    <tr>\n",
       "      <th>1</th>\n",
       "      <td>Yes</td>\n",
       "      <td>SUV</td>\n",
       "    </tr>\n",
       "    <tr>\n",
       "      <th>3</th>\n",
       "      <td>Yes</td>\n",
       "      <td>SUV</td>\n",
       "    </tr>\n",
       "    <tr>\n",
       "      <th>6</th>\n",
       "      <td>Yes</td>\n",
       "      <td>SUV</td>\n",
       "    </tr>\n",
       "    <tr>\n",
       "      <th>10</th>\n",
       "      <td>Yes</td>\n",
       "      <td>SUV</td>\n",
       "    </tr>\n",
       "    <tr>\n",
       "      <th>12</th>\n",
       "      <td>Yes</td>\n",
       "      <td>SUV</td>\n",
       "    </tr>\n",
       "    <tr>\n",
       "      <th>...</th>\n",
       "      <td>...</td>\n",
       "      <td>...</td>\n",
       "    </tr>\n",
       "    <tr>\n",
       "      <th>1572</th>\n",
       "      <td>Yes</td>\n",
       "      <td>Hatchback</td>\n",
       "    </tr>\n",
       "    <tr>\n",
       "      <th>1573</th>\n",
       "      <td>Yes</td>\n",
       "      <td>Hatchback</td>\n",
       "    </tr>\n",
       "    <tr>\n",
       "      <th>1574</th>\n",
       "      <td>Yes</td>\n",
       "      <td>Sedan</td>\n",
       "    </tr>\n",
       "    <tr>\n",
       "      <th>1575</th>\n",
       "      <td>Yes</td>\n",
       "      <td>Hatchback</td>\n",
       "    </tr>\n",
       "    <tr>\n",
       "      <th>1579</th>\n",
       "      <td>Yes</td>\n",
       "      <td>Hatchback</td>\n",
       "    </tr>\n",
       "  </tbody>\n",
       "</table>\n",
       "<p>792 rows × 2 columns</p>\n",
       "</div>"
      ],
      "text/plain": [
       "     Personal_loan       Make\n",
       "1              Yes        SUV\n",
       "3              Yes        SUV\n",
       "6              Yes        SUV\n",
       "10             Yes        SUV\n",
       "12             Yes        SUV\n",
       "...            ...        ...\n",
       "1572           Yes  Hatchback\n",
       "1573           Yes  Hatchback\n",
       "1574           Yes      Sedan\n",
       "1575           Yes  Hatchback\n",
       "1579           Yes  Hatchback\n",
       "\n",
       "[792 rows x 2 columns]"
      ]
     },
     "execution_count": 21,
     "metadata": {},
     "output_type": "execute_result"
    }
   ],
   "source": [
    "yes"
   ]
  },
  {
   "cell_type": "code",
   "execution_count": 22,
   "id": "e19cb91a-17b5-4fec-886b-f018c2ff08c3",
   "metadata": {},
   "outputs": [],
   "source": [
    "no=loan.where(loan.Personal_loan==\"No\").dropna()"
   ]
  },
  {
   "cell_type": "code",
   "execution_count": 23,
   "id": "8d2b8455-15ed-4d2b-b3ce-c7b9789728e7",
   "metadata": {},
   "outputs": [
    {
     "data": {
      "text/html": [
       "<div>\n",
       "<style scoped>\n",
       "    .dataframe tbody tr th:only-of-type {\n",
       "        vertical-align: middle;\n",
       "    }\n",
       "\n",
       "    .dataframe tbody tr th {\n",
       "        vertical-align: top;\n",
       "    }\n",
       "\n",
       "    .dataframe thead th {\n",
       "        text-align: right;\n",
       "    }\n",
       "</style>\n",
       "<table border=\"1\" class=\"dataframe\">\n",
       "  <thead>\n",
       "    <tr style=\"text-align: right;\">\n",
       "      <th></th>\n",
       "      <th>Personal_loan</th>\n",
       "      <th>Make</th>\n",
       "    </tr>\n",
       "  </thead>\n",
       "  <tbody>\n",
       "    <tr>\n",
       "      <th>0</th>\n",
       "      <td>No</td>\n",
       "      <td>SUV</td>\n",
       "    </tr>\n",
       "    <tr>\n",
       "      <th>2</th>\n",
       "      <td>No</td>\n",
       "      <td>SUV</td>\n",
       "    </tr>\n",
       "    <tr>\n",
       "      <th>4</th>\n",
       "      <td>No</td>\n",
       "      <td>SUV</td>\n",
       "    </tr>\n",
       "    <tr>\n",
       "      <th>5</th>\n",
       "      <td>No</td>\n",
       "      <td>SUV</td>\n",
       "    </tr>\n",
       "    <tr>\n",
       "      <th>7</th>\n",
       "      <td>No</td>\n",
       "      <td>SUV</td>\n",
       "    </tr>\n",
       "    <tr>\n",
       "      <th>...</th>\n",
       "      <td>...</td>\n",
       "      <td>...</td>\n",
       "    </tr>\n",
       "    <tr>\n",
       "      <th>1571</th>\n",
       "      <td>No</td>\n",
       "      <td>Hatchback</td>\n",
       "    </tr>\n",
       "    <tr>\n",
       "      <th>1576</th>\n",
       "      <td>No</td>\n",
       "      <td>Hatchback</td>\n",
       "    </tr>\n",
       "    <tr>\n",
       "      <th>1577</th>\n",
       "      <td>No</td>\n",
       "      <td>Hatchback</td>\n",
       "    </tr>\n",
       "    <tr>\n",
       "      <th>1578</th>\n",
       "      <td>No</td>\n",
       "      <td>Hatchback</td>\n",
       "    </tr>\n",
       "    <tr>\n",
       "      <th>1580</th>\n",
       "      <td>No</td>\n",
       "      <td>Hatchback</td>\n",
       "    </tr>\n",
       "  </tbody>\n",
       "</table>\n",
       "<p>789 rows × 2 columns</p>\n",
       "</div>"
      ],
      "text/plain": [
       "     Personal_loan       Make\n",
       "0               No        SUV\n",
       "2               No        SUV\n",
       "4               No        SUV\n",
       "5               No        SUV\n",
       "7               No        SUV\n",
       "...            ...        ...\n",
       "1571            No  Hatchback\n",
       "1576            No  Hatchback\n",
       "1577            No  Hatchback\n",
       "1578            No  Hatchback\n",
       "1580            No  Hatchback\n",
       "\n",
       "[789 rows x 2 columns]"
      ]
     },
     "execution_count": 23,
     "metadata": {},
     "output_type": "execute_result"
    }
   ],
   "source": [
    "no"
   ]
  },
  {
   "cell_type": "code",
   "execution_count": 24,
   "id": "89bce40d-c091-4e3a-a390-0654f5f0f453",
   "metadata": {},
   "outputs": [
    {
     "data": {
      "text/html": [
       "<div>\n",
       "<style scoped>\n",
       "    .dataframe tbody tr th:only-of-type {\n",
       "        vertical-align: middle;\n",
       "    }\n",
       "\n",
       "    .dataframe tbody tr th {\n",
       "        vertical-align: top;\n",
       "    }\n",
       "\n",
       "    .dataframe thead th {\n",
       "        text-align: right;\n",
       "    }\n",
       "</style>\n",
       "<table border=\"1\" class=\"dataframe\">\n",
       "  <thead>\n",
       "    <tr style=\"text-align: right;\">\n",
       "      <th></th>\n",
       "      <th>Personal_loan</th>\n",
       "    </tr>\n",
       "    <tr>\n",
       "      <th>Make</th>\n",
       "      <th></th>\n",
       "    </tr>\n",
       "  </thead>\n",
       "  <tbody>\n",
       "    <tr>\n",
       "      <th>Hatchback</th>\n",
       "      <td>291</td>\n",
       "    </tr>\n",
       "    <tr>\n",
       "      <th>SUV</th>\n",
       "      <td>116</td>\n",
       "    </tr>\n",
       "    <tr>\n",
       "      <th>Sedan</th>\n",
       "      <td>385</td>\n",
       "    </tr>\n",
       "  </tbody>\n",
       "</table>\n",
       "</div>"
      ],
      "text/plain": [
       "           Personal_loan\n",
       "Make                    \n",
       "Hatchback            291\n",
       "SUV                  116\n",
       "Sedan                385"
      ]
     },
     "execution_count": 24,
     "metadata": {},
     "output_type": "execute_result"
    }
   ],
   "source": [
    "#grouping personal loan person with thier making car\n",
    "yes.groupby(\"Make\").count()"
   ]
  },
  {
   "cell_type": "code",
   "execution_count": 25,
   "id": "6a2a057f-5d4b-4edd-afbc-c3b84e9efec4",
   "metadata": {},
   "outputs": [
    {
     "data": {
      "text/html": [
       "<div>\n",
       "<style scoped>\n",
       "    .dataframe tbody tr th:only-of-type {\n",
       "        vertical-align: middle;\n",
       "    }\n",
       "\n",
       "    .dataframe tbody tr th {\n",
       "        vertical-align: top;\n",
       "    }\n",
       "\n",
       "    .dataframe thead th {\n",
       "        text-align: right;\n",
       "    }\n",
       "</style>\n",
       "<table border=\"1\" class=\"dataframe\">\n",
       "  <thead>\n",
       "    <tr style=\"text-align: right;\">\n",
       "      <th></th>\n",
       "      <th>Personal_loan</th>\n",
       "    </tr>\n",
       "    <tr>\n",
       "      <th>Make</th>\n",
       "      <th></th>\n",
       "    </tr>\n",
       "  </thead>\n",
       "  <tbody>\n",
       "    <tr>\n",
       "      <th>Hatchback</th>\n",
       "      <td>291</td>\n",
       "    </tr>\n",
       "    <tr>\n",
       "      <th>SUV</th>\n",
       "      <td>181</td>\n",
       "    </tr>\n",
       "    <tr>\n",
       "      <th>Sedan</th>\n",
       "      <td>317</td>\n",
       "    </tr>\n",
       "  </tbody>\n",
       "</table>\n",
       "</div>"
      ],
      "text/plain": [
       "           Personal_loan\n",
       "Make                    \n",
       "Hatchback            291\n",
       "SUV                  181\n",
       "Sedan                317"
      ]
     },
     "execution_count": 25,
     "metadata": {},
     "output_type": "execute_result"
    }
   ],
   "source": [
    "#grouping person with no personal loan person with thier making car\n",
    "no.groupby(\"Make\").count()"
   ]
  },
  {
   "cell_type": "code",
   "execution_count": 26,
   "id": "746318ca-c1d6-42e6-8606-07cf66170cf7",
   "metadata": {},
   "outputs": [
    {
     "data": {
      "text/plain": [
       "<Axes: xlabel='Make'>"
      ]
     },
     "execution_count": 26,
     "metadata": {},
     "output_type": "execute_result"
    },
    {
     "data": {
      "image/png": "[encoded data removed]",
      "text/plain": [
       "<Figure size 640x480 with 1 Axes>"
      ]
     },
     "metadata": {},
     "output_type": "display_data"
    }
   ],
   "source": [
    "#bar chart for peope having personal loan with their car making\n",
    "yes.groupby(\"Make\").count().plot.bar()"
   ]
  },
  {
   "cell_type": "code",
   "execution_count": 27,
   "id": "2bf11ac7-f064-428f-a5bf-94369a6df4b2",
   "metadata": {},
   "outputs": [
    {
     "data": {
      "text/plain": [
       "<Axes: xlabel='Make'>"
      ]
     },
     "execution_count": 27,
     "metadata": {},
     "output_type": "execute_result"
    },
    {
     "data": {
      "image/png": "[encoded data removed]",
      "text/plain": [
       "<Figure size 640x480 with 1 Axes>"
      ]
     },
     "metadata": {},
     "output_type": "display_data"
    }
   ],
   "source": [
    "#bar chart for peope dont have personal loan with their car making\n",
    "no.groupby(\"Make\").count().plot.bar()"
   ]
  },
  {
   "cell_type": "code",
   "execution_count": 28,
   "id": "54b85100-330c-4912-81e6-6ab6f1c231fc",
   "metadata": {},
   "outputs": [],
   "source": [
    "yes=yes.groupby(\"Make\").count()\n",
    "no=no.groupby(\"Make\").count()"
   ]
  },
  {
   "cell_type": "code",
   "execution_count": 29,
   "id": "24fea568-c271-4a4c-9996-f4408681858e",
   "metadata": {},
   "outputs": [
    {
     "data": {
      "text/html": [
       "<div>\n",
       "<style scoped>\n",
       "    .dataframe tbody tr th:only-of-type {\n",
       "        vertical-align: middle;\n",
       "    }\n",
       "\n",
       "    .dataframe tbody tr th {\n",
       "        vertical-align: top;\n",
       "    }\n",
       "\n",
       "    .dataframe thead th {\n",
       "        text-align: right;\n",
       "    }\n",
       "</style>\n",
       "<table border=\"1\" class=\"dataframe\">\n",
       "  <thead>\n",
       "    <tr style=\"text-align: right;\">\n",
       "      <th></th>\n",
       "      <th>Personal_loan</th>\n",
       "    </tr>\n",
       "    <tr>\n",
       "      <th>Make</th>\n",
       "      <th></th>\n",
       "    </tr>\n",
       "  </thead>\n",
       "  <tbody>\n",
       "    <tr>\n",
       "      <th>Hatchback</th>\n",
       "      <td>291</td>\n",
       "    </tr>\n",
       "    <tr>\n",
       "      <th>SUV</th>\n",
       "      <td>116</td>\n",
       "    </tr>\n",
       "    <tr>\n",
       "      <th>Sedan</th>\n",
       "      <td>385</td>\n",
       "    </tr>\n",
       "  </tbody>\n",
       "</table>\n",
       "</div>"
      ],
      "text/plain": [
       "           Personal_loan\n",
       "Make                    \n",
       "Hatchback            291\n",
       "SUV                  116\n",
       "Sedan                385"
      ]
     },
     "execution_count": 29,
     "metadata": {},
     "output_type": "execute_result"
    }
   ],
   "source": [
    "yes"
   ]
  },
  {
   "cell_type": "code",
   "execution_count": 30,
   "id": "4d482e8f-a60f-49b2-a3f1-a16d21005d47",
   "metadata": {},
   "outputs": [
    {
     "data": {
      "text/html": [
       "<div>\n",
       "<style scoped>\n",
       "    .dataframe tbody tr th:only-of-type {\n",
       "        vertical-align: middle;\n",
       "    }\n",
       "\n",
       "    .dataframe tbody tr th {\n",
       "        vertical-align: top;\n",
       "    }\n",
       "\n",
       "    .dataframe thead th {\n",
       "        text-align: right;\n",
       "    }\n",
       "</style>\n",
       "<table border=\"1\" class=\"dataframe\">\n",
       "  <thead>\n",
       "    <tr style=\"text-align: right;\">\n",
       "      <th></th>\n",
       "      <th>Personal_loan</th>\n",
       "    </tr>\n",
       "    <tr>\n",
       "      <th>Make</th>\n",
       "      <th></th>\n",
       "    </tr>\n",
       "  </thead>\n",
       "  <tbody>\n",
       "    <tr>\n",
       "      <th>Hatchback</th>\n",
       "      <td>291</td>\n",
       "    </tr>\n",
       "    <tr>\n",
       "      <th>SUV</th>\n",
       "      <td>181</td>\n",
       "    </tr>\n",
       "    <tr>\n",
       "      <th>Sedan</th>\n",
       "      <td>317</td>\n",
       "    </tr>\n",
       "  </tbody>\n",
       "</table>\n",
       "</div>"
      ],
      "text/plain": [
       "           Personal_loan\n",
       "Make                    \n",
       "Hatchback            291\n",
       "SUV                  181\n",
       "Sedan                317"
      ]
     },
     "execution_count": 30,
     "metadata": {},
     "output_type": "execute_result"
    }
   ],
   "source": [
    "no"
   ]
  },
  {
   "cell_type": "code",
   "execution_count": 31,
   "id": "f894ec76-4a23-4a1b-aff2-898475e70b2a",
   "metadata": {},
   "outputs": [],
   "source": [
    "y=[yes.iloc[0][0],yes.iloc[1][0],yes.iloc[2][0]]\n",
    "n=[no.iloc[0][0],no.iloc[1][0],no.iloc[2][0]]"
   ]
  },
  {
   "cell_type": "code",
   "execution_count": 32,
   "id": "6b681c95-d18d-4f0f-aafc-22ac5966eefc",
   "metadata": {},
   "outputs": [
    {
     "data": {
      "text/plain": [
       "[291, 116, 385]"
      ]
     },
     "execution_count": 32,
     "metadata": {},
     "output_type": "execute_result"
    }
   ],
   "source": [
    "y"
   ]
  },
  {
   "cell_type": "code",
   "execution_count": 33,
   "id": "eaa7aa7d-8e4e-47b3-9ddf-b66fce384fa4",
   "metadata": {},
   "outputs": [
    {
     "data": {
      "text/plain": [
       "[291, 181, 317]"
      ]
     },
     "execution_count": 33,
     "metadata": {},
     "output_type": "execute_result"
    }
   ],
   "source": [
    "n"
   ]
  },
  {
   "cell_type": "code",
   "execution_count": 41,
   "id": "0f5904a1-efac-4f5a-a3c3-9450b7127f42",
   "metadata": {},
   "outputs": [],
   "source": [
    "ploan=pd.DataFrame({\"People with Perosnal Loan\":y,\"People without Perosnal Loan\":n},index=[\"Hatchback\",\"SUV\",\"Sedan\"])"
   ]
  },
  {
   "cell_type": "code",
   "execution_count": 42,
   "id": "2a0f371c-f88d-426c-9b27-87c2a172d8a2",
   "metadata": {},
   "outputs": [
    {
     "data": {
      "text/html": [
       "<div>\n",
       "<style scoped>\n",
       "    .dataframe tbody tr th:only-of-type {\n",
       "        vertical-align: middle;\n",
       "    }\n",
       "\n",
       "    .dataframe tbody tr th {\n",
       "        vertical-align: top;\n",
       "    }\n",
       "\n",
       "    .dataframe thead th {\n",
       "        text-align: right;\n",
       "    }\n",
       "</style>\n",
       "<table border=\"1\" class=\"dataframe\">\n",
       "  <thead>\n",
       "    <tr style=\"text-align: right;\">\n",
       "      <th></th>\n",
       "      <th>People with Perosnal Loan</th>\n",
       "      <th>People without Perosnal Loan</th>\n",
       "    </tr>\n",
       "  </thead>\n",
       "  <tbody>\n",
       "    <tr>\n",
       "      <th>Hatchback</th>\n",
       "      <td>291</td>\n",
       "      <td>291</td>\n",
       "    </tr>\n",
       "    <tr>\n",
       "      <th>SUV</th>\n",
       "      <td>116</td>\n",
       "      <td>181</td>\n",
       "    </tr>\n",
       "    <tr>\n",
       "      <th>Sedan</th>\n",
       "      <td>385</td>\n",
       "      <td>317</td>\n",
       "    </tr>\n",
       "  </tbody>\n",
       "</table>\n",
       "</div>"
      ],
      "text/plain": [
       "           People with Perosnal Loan  People without Perosnal Loan\n",
       "Hatchback                        291                           291\n",
       "SUV                              116                           181\n",
       "Sedan                            385                           317"
      ]
     },
     "execution_count": 42,
     "metadata": {},
     "output_type": "execute_result"
    }
   ],
   "source": [
    "ploan"
   ]
  },
  {
   "cell_type": "code",
   "execution_count": 46,
   "id": "baa6efc9-a452-4a37-a5a1-dbd6c37a60a2",
   "metadata": {},
   "outputs": [
    {
     "data": {
      "text/plain": [
       "<Axes: >"
      ]
     },
     "execution_count": 46,
     "metadata": {},
     "output_type": "execute_result"
    },
    {
     "data": {
      "image/png": "[encoded data removed]",
      "text/plain": [
       "<Figure size 640x480 with 1 Axes>"
      ]
     },
     "metadata": {},
     "output_type": "display_data"
    }
   ],
   "source": [
    "#Bar chart for both personal loan people and people with not having pesonal loan data together\n",
    "ploan.plot.bar(rot=True)"
   ]
  },
  {
   "cell_type": "markdown",
   "id": "2b0acc20-ef89-4426-904e-7c38de8ff73d",
   "metadata": {},
   "source": [
    "## Personal Loan Bar chart"
   ]
  },
  {
   "cell_type": "code",
   "execution_count": 50,
   "id": "081ef4bd-0ddd-45b6-96b8-f4427ad15730",
   "metadata": {},
   "outputs": [
    {
     "data": {
      "text/html": [
       "<div>\n",
       "<style scoped>\n",
       "    .dataframe tbody tr th:only-of-type {\n",
       "        vertical-align: middle;\n",
       "    }\n",
       "\n",
       "    .dataframe tbody tr th {\n",
       "        vertical-align: top;\n",
       "    }\n",
       "\n",
       "    .dataframe thead th {\n",
       "        text-align: right;\n",
       "    }\n",
       "</style>\n",
       "<table border=\"1\" class=\"dataframe\">\n",
       "  <thead>\n",
       "    <tr style=\"text-align: right;\">\n",
       "      <th></th>\n",
       "      <th>Age</th>\n",
       "      <th>Gender</th>\n",
       "      <th>Profession</th>\n",
       "      <th>Marital_status</th>\n",
       "      <th>Education</th>\n",
       "      <th>No_of_Dependents</th>\n",
       "      <th>Personal_loan</th>\n",
       "      <th>House_loan</th>\n",
       "      <th>Partner_working</th>\n",
       "      <th>Salary</th>\n",
       "      <th>Partner_salary</th>\n",
       "      <th>Total_salary</th>\n",
       "      <th>Price</th>\n",
       "      <th>Make</th>\n",
       "    </tr>\n",
       "  </thead>\n",
       "  <tbody>\n",
       "    <tr>\n",
       "      <th>0</th>\n",
       "      <td>53</td>\n",
       "      <td>Male</td>\n",
       "      <td>Business</td>\n",
       "      <td>Married</td>\n",
       "      <td>Post Graduate</td>\n",
       "      <td>4</td>\n",
       "      <td>No</td>\n",
       "      <td>No</td>\n",
       "      <td>Yes</td>\n",
       "      <td>99300</td>\n",
       "      <td>70700.0</td>\n",
       "      <td>170000</td>\n",
       "      <td>61000</td>\n",
       "      <td>SUV</td>\n",
       "    </tr>\n",
       "    <tr>\n",
       "      <th>1</th>\n",
       "      <td>53</td>\n",
       "      <td>Femal</td>\n",
       "      <td>Salaried</td>\n",
       "      <td>Married</td>\n",
       "      <td>Post Graduate</td>\n",
       "      <td>4</td>\n",
       "      <td>Yes</td>\n",
       "      <td>No</td>\n",
       "      <td>Yes</td>\n",
       "      <td>95500</td>\n",
       "      <td>70300.0</td>\n",
       "      <td>165800</td>\n",
       "      <td>61000</td>\n",
       "      <td>SUV</td>\n",
       "    </tr>\n",
       "    <tr>\n",
       "      <th>2</th>\n",
       "      <td>53</td>\n",
       "      <td>Female</td>\n",
       "      <td>Salaried</td>\n",
       "      <td>Married</td>\n",
       "      <td>Post Graduate</td>\n",
       "      <td>3</td>\n",
       "      <td>No</td>\n",
       "      <td>No</td>\n",
       "      <td>Yes</td>\n",
       "      <td>97300</td>\n",
       "      <td>60700.0</td>\n",
       "      <td>158000</td>\n",
       "      <td>57000</td>\n",
       "      <td>SUV</td>\n",
       "    </tr>\n",
       "    <tr>\n",
       "      <th>3</th>\n",
       "      <td>53</td>\n",
       "      <td>Female</td>\n",
       "      <td>Salaried</td>\n",
       "      <td>Married</td>\n",
       "      <td>Graduate</td>\n",
       "      <td>2</td>\n",
       "      <td>Yes</td>\n",
       "      <td>No</td>\n",
       "      <td>Yes</td>\n",
       "      <td>72500</td>\n",
       "      <td>70300.0</td>\n",
       "      <td>142800</td>\n",
       "      <td>61000</td>\n",
       "      <td>SUV</td>\n",
       "    </tr>\n",
       "    <tr>\n",
       "      <th>4</th>\n",
       "      <td>53</td>\n",
       "      <td>Male</td>\n",
       "      <td>Salaried</td>\n",
       "      <td>Married</td>\n",
       "      <td>Post Graduate</td>\n",
       "      <td>3</td>\n",
       "      <td>No</td>\n",
       "      <td>No</td>\n",
       "      <td>Yes</td>\n",
       "      <td>79700</td>\n",
       "      <td>60200.0</td>\n",
       "      <td>139900</td>\n",
       "      <td>57000</td>\n",
       "      <td>SUV</td>\n",
       "    </tr>\n",
       "    <tr>\n",
       "      <th>...</th>\n",
       "      <td>...</td>\n",
       "      <td>...</td>\n",
       "      <td>...</td>\n",
       "      <td>...</td>\n",
       "      <td>...</td>\n",
       "      <td>...</td>\n",
       "      <td>...</td>\n",
       "      <td>...</td>\n",
       "      <td>...</td>\n",
       "      <td>...</td>\n",
       "      <td>...</td>\n",
       "      <td>...</td>\n",
       "      <td>...</td>\n",
       "      <td>...</td>\n",
       "    </tr>\n",
       "    <tr>\n",
       "      <th>1576</th>\n",
       "      <td>22</td>\n",
       "      <td>Male</td>\n",
       "      <td>Salaried</td>\n",
       "      <td>Single</td>\n",
       "      <td>Graduate</td>\n",
       "      <td>2</td>\n",
       "      <td>No</td>\n",
       "      <td>Yes</td>\n",
       "      <td>No</td>\n",
       "      <td>33300</td>\n",
       "      <td>0.0</td>\n",
       "      <td>33300</td>\n",
       "      <td>27000</td>\n",
       "      <td>Hatchback</td>\n",
       "    </tr>\n",
       "    <tr>\n",
       "      <th>1577</th>\n",
       "      <td>22</td>\n",
       "      <td>Male</td>\n",
       "      <td>Business</td>\n",
       "      <td>Married</td>\n",
       "      <td>Graduate</td>\n",
       "      <td>4</td>\n",
       "      <td>No</td>\n",
       "      <td>No</td>\n",
       "      <td>No</td>\n",
       "      <td>32000</td>\n",
       "      <td>NaN</td>\n",
       "      <td>32000</td>\n",
       "      <td>31000</td>\n",
       "      <td>Hatchback</td>\n",
       "    </tr>\n",
       "    <tr>\n",
       "      <th>1578</th>\n",
       "      <td>22</td>\n",
       "      <td>Male</td>\n",
       "      <td>Business</td>\n",
       "      <td>Single</td>\n",
       "      <td>Graduate</td>\n",
       "      <td>2</td>\n",
       "      <td>No</td>\n",
       "      <td>Yes</td>\n",
       "      <td>No</td>\n",
       "      <td>32900</td>\n",
       "      <td>0.0</td>\n",
       "      <td>32900</td>\n",
       "      <td>30000</td>\n",
       "      <td>Hatchback</td>\n",
       "    </tr>\n",
       "    <tr>\n",
       "      <th>1579</th>\n",
       "      <td>22</td>\n",
       "      <td>Male</td>\n",
       "      <td>Business</td>\n",
       "      <td>Married</td>\n",
       "      <td>Graduate</td>\n",
       "      <td>3</td>\n",
       "      <td>Yes</td>\n",
       "      <td>Yes</td>\n",
       "      <td>No</td>\n",
       "      <td>32200</td>\n",
       "      <td>NaN</td>\n",
       "      <td>32200</td>\n",
       "      <td>24000</td>\n",
       "      <td>Hatchback</td>\n",
       "    </tr>\n",
       "    <tr>\n",
       "      <th>1580</th>\n",
       "      <td>22</td>\n",
       "      <td>Male</td>\n",
       "      <td>Salaried</td>\n",
       "      <td>Married</td>\n",
       "      <td>Graduate</td>\n",
       "      <td>4</td>\n",
       "      <td>No</td>\n",
       "      <td>No</td>\n",
       "      <td>No</td>\n",
       "      <td>31600</td>\n",
       "      <td>0.0</td>\n",
       "      <td>31600</td>\n",
       "      <td>31000</td>\n",
       "      <td>Hatchback</td>\n",
       "    </tr>\n",
       "  </tbody>\n",
       "</table>\n",
       "<p>1581 rows × 14 columns</p>\n",
       "</div>"
      ],
      "text/plain": [
       "      Age  Gender Profession Marital_status      Education  No_of_Dependents  \\\n",
       "0      53    Male   Business        Married  Post Graduate                 4   \n",
       "1      53   Femal   Salaried        Married  Post Graduate                 4   \n",
       "2      53  Female   Salaried        Married  Post Graduate                 3   \n",
       "3      53  Female   Salaried        Married       Graduate                 2   \n",
       "4      53    Male   Salaried        Married  Post Graduate                 3   \n",
       "...   ...     ...        ...            ...            ...               ...   \n",
       "1576   22    Male   Salaried         Single       Graduate                 2   \n",
       "1577   22    Male   Business        Married       Graduate                 4   \n",
       "1578   22    Male   Business         Single       Graduate                 2   \n",
       "1579   22    Male   Business        Married       Graduate                 3   \n",
       "1580   22    Male   Salaried        Married       Graduate                 4   \n",
       "\n",
       "     Personal_loan House_loan Partner_working  Salary  Partner_salary  \\\n",
       "0               No         No             Yes   99300         70700.0   \n",
       "1              Yes         No             Yes   95500         70300.0   \n",
       "2               No         No             Yes   97300         60700.0   \n",
       "3              Yes         No             Yes   72500         70300.0   \n",
       "4               No         No             Yes   79700         60200.0   \n",
       "...            ...        ...             ...     ...             ...   \n",
       "1576            No        Yes              No   33300             0.0   \n",
       "1577            No         No              No   32000             NaN   \n",
       "1578            No        Yes              No   32900             0.0   \n",
       "1579           Yes        Yes              No   32200             NaN   \n",
       "1580            No         No              No   31600             0.0   \n",
       "\n",
       "      Total_salary  Price       Make  \n",
       "0           170000  61000        SUV  \n",
       "1           165800  61000        SUV  \n",
       "2           158000  57000        SUV  \n",
       "3           142800  61000        SUV  \n",
       "4           139900  57000        SUV  \n",
       "...            ...    ...        ...  \n",
       "1576         33300  27000  Hatchback  \n",
       "1577         32000  31000  Hatchback  \n",
       "1578         32900  30000  Hatchback  \n",
       "1579         32200  24000  Hatchback  \n",
       "1580         31600  31000  Hatchback  \n",
       "\n",
       "[1581 rows x 14 columns]"
      ]
     },
     "execution_count": 50,
     "metadata": {},
     "output_type": "execute_result"
    }
   ],
   "source": [
    "df"
   ]
  },
  {
   "cell_type": "code",
   "execution_count": 107,
   "id": "611f20ce-19c1-432d-8943-86432154535c",
   "metadata": {},
   "outputs": [],
   "source": [
    "P_loan=df[[\"Gender\",\"Personal_loan\"]]"
   ]
  },
  {
   "cell_type": "code",
   "execution_count": 108,
   "id": "8018b2b6-87aa-408b-8190-b563f859db2f",
   "metadata": {},
   "outputs": [
    {
     "data": {
      "text/html": [
       "<div>\n",
       "<style scoped>\n",
       "    .dataframe tbody tr th:only-of-type {\n",
       "        vertical-align: middle;\n",
       "    }\n",
       "\n",
       "    .dataframe tbody tr th {\n",
       "        vertical-align: top;\n",
       "    }\n",
       "\n",
       "    .dataframe thead th {\n",
       "        text-align: right;\n",
       "    }\n",
       "</style>\n",
       "<table border=\"1\" class=\"dataframe\">\n",
       "  <thead>\n",
       "    <tr style=\"text-align: right;\">\n",
       "      <th></th>\n",
       "      <th>Gender</th>\n",
       "      <th>Personal_loan</th>\n",
       "    </tr>\n",
       "  </thead>\n",
       "  <tbody>\n",
       "    <tr>\n",
       "      <th>0</th>\n",
       "      <td>Male</td>\n",
       "      <td>No</td>\n",
       "    </tr>\n",
       "    <tr>\n",
       "      <th>1</th>\n",
       "      <td>Femal</td>\n",
       "      <td>Yes</td>\n",
       "    </tr>\n",
       "    <tr>\n",
       "      <th>2</th>\n",
       "      <td>Female</td>\n",
       "      <td>No</td>\n",
       "    </tr>\n",
       "    <tr>\n",
       "      <th>3</th>\n",
       "      <td>Female</td>\n",
       "      <td>Yes</td>\n",
       "    </tr>\n",
       "    <tr>\n",
       "      <th>4</th>\n",
       "      <td>Male</td>\n",
       "      <td>No</td>\n",
       "    </tr>\n",
       "    <tr>\n",
       "      <th>...</th>\n",
       "      <td>...</td>\n",
       "      <td>...</td>\n",
       "    </tr>\n",
       "    <tr>\n",
       "      <th>1576</th>\n",
       "      <td>Male</td>\n",
       "      <td>No</td>\n",
       "    </tr>\n",
       "    <tr>\n",
       "      <th>1577</th>\n",
       "      <td>Male</td>\n",
       "      <td>No</td>\n",
       "    </tr>\n",
       "    <tr>\n",
       "      <th>1578</th>\n",
       "      <td>Male</td>\n",
       "      <td>No</td>\n",
       "    </tr>\n",
       "    <tr>\n",
       "      <th>1579</th>\n",
       "      <td>Male</td>\n",
       "      <td>Yes</td>\n",
       "    </tr>\n",
       "    <tr>\n",
       "      <th>1580</th>\n",
       "      <td>Male</td>\n",
       "      <td>No</td>\n",
       "    </tr>\n",
       "  </tbody>\n",
       "</table>\n",
       "<p>1581 rows × 2 columns</p>\n",
       "</div>"
      ],
      "text/plain": [
       "      Gender Personal_loan\n",
       "0       Male            No\n",
       "1      Femal           Yes\n",
       "2     Female            No\n",
       "3     Female           Yes\n",
       "4       Male            No\n",
       "...      ...           ...\n",
       "1576    Male            No\n",
       "1577    Male            No\n",
       "1578    Male            No\n",
       "1579    Male           Yes\n",
       "1580    Male            No\n",
       "\n",
       "[1581 rows x 2 columns]"
      ]
     },
     "execution_count": 108,
     "metadata": {},
     "output_type": "execute_result"
    }
   ],
   "source": [
    "P_loan"
   ]
  },
  {
   "cell_type": "code",
   "execution_count": 109,
   "id": "e49b31e0-4f05-4f7b-9c61-349803b69353",
   "metadata": {},
   "outputs": [],
   "source": [
    "P_loan=P_loan.groupby(\"Personal_loan\").count()"
   ]
  },
  {
   "cell_type": "code",
   "execution_count": 110,
   "id": "fc0d0390-cc86-411e-8849-e94ad56846e9",
   "metadata": {},
   "outputs": [
    {
     "data": {
      "text/html": [
       "<div>\n",
       "<style scoped>\n",
       "    .dataframe tbody tr th:only-of-type {\n",
       "        vertical-align: middle;\n",
       "    }\n",
       "\n",
       "    .dataframe tbody tr th {\n",
       "        vertical-align: top;\n",
       "    }\n",
       "\n",
       "    .dataframe thead th {\n",
       "        text-align: right;\n",
       "    }\n",
       "</style>\n",
       "<table border=\"1\" class=\"dataframe\">\n",
       "  <thead>\n",
       "    <tr style=\"text-align: right;\">\n",
       "      <th></th>\n",
       "      <th>Gender</th>\n",
       "    </tr>\n",
       "    <tr>\n",
       "      <th>Personal_loan</th>\n",
       "      <th></th>\n",
       "    </tr>\n",
       "  </thead>\n",
       "  <tbody>\n",
       "    <tr>\n",
       "      <th>No</th>\n",
       "      <td>760</td>\n",
       "    </tr>\n",
       "    <tr>\n",
       "      <th>Yes</th>\n",
       "      <td>768</td>\n",
       "    </tr>\n",
       "  </tbody>\n",
       "</table>\n",
       "</div>"
      ],
      "text/plain": [
       "               Gender\n",
       "Personal_loan        \n",
       "No                760\n",
       "Yes               768"
      ]
     },
     "execution_count": 110,
     "metadata": {},
     "output_type": "execute_result"
    }
   ],
   "source": [
    "P_loan"
   ]
  },
  {
   "cell_type": "code",
   "execution_count": 117,
   "id": "a3cba13c-8af6-4e4c-92f1-e65d36501e09",
   "metadata": {},
   "outputs": [],
   "source": [
    "y=P_loan.iloc[1][0]"
   ]
  },
  {
   "cell_type": "code",
   "execution_count": 118,
   "id": "690b8e43-ae19-4599-84ac-327a5955e092",
   "metadata": {},
   "outputs": [],
   "source": [
    "n=P_loan.iloc[0][0]"
   ]
  },
  {
   "cell_type": "code",
   "execution_count": 119,
   "id": "d1625479-640b-4677-803f-fd9a46610941",
   "metadata": {},
   "outputs": [
    {
     "data": {
      "text/plain": [
       "768"
      ]
     },
     "execution_count": 119,
     "metadata": {},
     "output_type": "execute_result"
    }
   ],
   "source": [
    "y"
   ]
  },
  {
   "cell_type": "code",
   "execution_count": 120,
   "id": "3301ca8b-655b-4a60-9fd1-bc76a1044fb6",
   "metadata": {},
   "outputs": [
    {
     "data": {
      "text/plain": [
       "760"
      ]
     },
     "execution_count": 120,
     "metadata": {},
     "output_type": "execute_result"
    }
   ],
   "source": [
    "n"
   ]
  },
  {
   "cell_type": "code",
   "execution_count": 128,
   "id": "c6432ce2-7dca-439b-92d7-496637ff7e49",
   "metadata": {},
   "outputs": [],
   "source": [
    "dff=pd.DataFrame({\"Yes\":y,\"No\":n},index=[\"Personal Loan Status\"])"
   ]
  },
  {
   "cell_type": "code",
   "execution_count": 129,
   "id": "e0e67b0f-0488-4925-a3e9-542dd40ce507",
   "metadata": {},
   "outputs": [
    {
     "data": {
      "text/html": [
       "<div>\n",
       "<style scoped>\n",
       "    .dataframe tbody tr th:only-of-type {\n",
       "        vertical-align: middle;\n",
       "    }\n",
       "\n",
       "    .dataframe tbody tr th {\n",
       "        vertical-align: top;\n",
       "    }\n",
       "\n",
       "    .dataframe thead th {\n",
       "        text-align: right;\n",
       "    }\n",
       "</style>\n",
       "<table border=\"1\" class=\"dataframe\">\n",
       "  <thead>\n",
       "    <tr style=\"text-align: right;\">\n",
       "      <th></th>\n",
       "      <th>Yes</th>\n",
       "      <th>No</th>\n",
       "    </tr>\n",
       "  </thead>\n",
       "  <tbody>\n",
       "    <tr>\n",
       "      <th>Personal Loan Status</th>\n",
       "      <td>768</td>\n",
       "      <td>760</td>\n",
       "    </tr>\n",
       "  </tbody>\n",
       "</table>\n",
       "</div>"
      ],
      "text/plain": [
       "                      Yes   No\n",
       "Personal Loan Status  768  760"
      ]
     },
     "execution_count": 129,
     "metadata": {},
     "output_type": "execute_result"
    }
   ],
   "source": [
    "dff"
   ]
  },
  {
   "cell_type": "code",
   "execution_count": 131,
   "id": "d1e3fec9-8042-41e6-bab3-b7504a58041a",
   "metadata": {},
   "outputs": [
    {
     "data": {
      "text/plain": [
       "<Axes: >"
      ]
     },
     "execution_count": 131,
     "metadata": {},
     "output_type": "execute_result"
    },
    {
     "data": {
      "image/png": "[encoded data removed]",
      "text/plain": [
       "<Figure size 640x480 with 1 Axes>"
      ]
     },
     "metadata": {},
     "output_type": "display_data"
    }
   ],
   "source": [
    "dff.plot.bar(rot=True)"
   ]
  }
 ],
 "metadata": {
  "kernelspec": {
   "display_name": "Python 3 (ipykernel)",
   "language": "python",
   "name": "python3"
  },
  "language_info": {
   "codemirror_mode": {
    "name": "ipython",
    "version": 3
   },
   "file_extension": ".py",
   "mimetype": "text/x-python",
   "name": "python",
   "nbconvert_exporter": "python",
   "pygments_lexer": "ipython3",
   "version": "3.12.3"
  }
 },
 "nbformat": 4,
 "nbformat_minor": 5
}
